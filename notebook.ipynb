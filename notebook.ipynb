{
 "cells": [
  {
   "cell_type": "markdown",
   "metadata": {
    "cell_id": "00000-7c1ca8ff-a0a0-4db5-ac4f-1224c0242af5",
    "deepnote_app_coordinates": {
     "h": 2,
     "w": 24,
     "x": 0,
     "y": 0
    },
    "deepnote_cell_type": "text-cell-h1",
    "is_collapsed": false,
    "tags": []
   },
   "source": [
    "# ML Project Notebook"
   ]
  },
  {
   "cell_type": "code",
   "execution_count": 1,
   "metadata": {
    "cell_id": "00000-c4ff0872-563e-40b7-9246-d22646cdb59f",
    "deepnote_app_coordinates": {
     "h": 5,
     "w": 24,
     "x": 0,
     "y": null
    },
    "deepnote_cell_type": "code",
    "deepnote_to_be_reexecuted": false,
    "execution_millis": 7519,
    "execution_start": 1631635267267,
    "source_hash": "95a5155e",
    "tags": []
   },
   "outputs": [],
   "source": [
    "from pathlib import Path\n",
    "import seaborn as sns\n",
    "import matplotlib.pyplot as plt\n",
    "import pandas as pd\n",
    "import numpy as np\n",
    "from sklearn.metrics import confusion_matrix\n",
    "from sklearn.preprocessing import LabelEncoder\n",
    "import matplotlib.pyplot as plt\n",
    "\n",
    "from shapely.geometry import Point\n",
    "import geopandas as gpd\n",
    "import xgboost as xgb\n",
    "\n",
    "import fastai.tabular.all as ft\n",
    "from sklearn.model_selection import train_test_split\n",
    "from sklearn.ensemble import RandomForestClassifier\n",
    "from sklearn import metrics"
   ]
  },
  {
   "cell_type": "code",
   "execution_count": 2,
   "metadata": {
    "cell_id": "00001-81a1b9d2-3616-4f0f-976f-56dd56fdf77a",
    "deepnote_app_coordinates": {
     "h": 5,
     "w": 24,
     "x": 0,
     "y": 6
    },
    "deepnote_cell_type": "code",
    "deepnote_to_be_reexecuted": false,
    "execution_millis": 1851,
    "execution_start": 1631635274812,
    "source_hash": "645dcc61",
    "tags": []
   },
   "outputs": [
    {
     "name": "stdout",
     "output_type": "stream",
     "text": [
      "SubmissionFormat.csv  TestData.csv  TrainData.csv  TrainLabels.csv\n"
     ]
    }
   ],
   "source": [
    "DATA_DIR = Path(\"datasets\")\n",
    "!ls {DATA_DIR}"
   ]
  },
  {
   "cell_type": "code",
   "execution_count": 3,
   "metadata": {
    "cell_id": "00002-41245b79-217d-4445-8493-cb7f113525de",
    "deepnote_app_coordinates": {
     "h": 5,
     "w": 24,
     "x": 0,
     "y": 12
    },
    "deepnote_cell_type": "code",
    "deepnote_to_be_reexecuted": false,
    "execution_millis": 11132,
    "execution_start": 1631635276671,
    "source_hash": "9f8e67be",
    "tags": []
   },
   "outputs": [],
   "source": [
    "df_train_points = pd.read_csv(DATA_DIR/'TrainData.csv')\n",
    "df_train_labels = pd.read_csv(DATA_DIR/'TrainLabels.csv')\n",
    "df_test_points = pd.read_csv(DATA_DIR/'TestData.csv')\n",
    "df_points = pd.concat([df_train_points, df_test_points])\n",
    "df = df_points.merge(df_train_labels, left_on=\"id\", right_on=\"id\", how=\"outer\")"
   ]
  },
  {
   "cell_type": "code",
   "execution_count": 4,
   "metadata": {
    "cell_id": "00004-bb0b72fc-67fe-486d-87e0-c78de9b5638d",
    "deepnote_app_coordinates": {
     "h": 5,
     "w": 24,
     "x": 0,
     "y": 18
    },
    "deepnote_cell_type": "code",
    "deepnote_to_be_reexecuted": false,
    "execution_millis": 338,
    "execution_start": 1631635287809,
    "source_hash": "9540d41e",
    "tags": []
   },
   "outputs": [
    {
     "data": {
      "text/html": [
       "<div>\n",
       "<style scoped>\n",
       "    .dataframe tbody tr th:only-of-type {\n",
       "        vertical-align: middle;\n",
       "    }\n",
       "\n",
       "    .dataframe tbody tr th {\n",
       "        vertical-align: top;\n",
       "    }\n",
       "\n",
       "    .dataframe thead th {\n",
       "        text-align: right;\n",
       "    }\n",
       "</style>\n",
       "<table border=\"1\" class=\"dataframe\">\n",
       "  <thead>\n",
       "    <tr style=\"text-align: right;\">\n",
       "      <th></th>\n",
       "      <th>id</th>\n",
       "      <th>amount_tsh</th>\n",
       "      <th>date_recorded</th>\n",
       "      <th>funder</th>\n",
       "      <th>gps_height</th>\n",
       "      <th>installer</th>\n",
       "      <th>longitude</th>\n",
       "      <th>latitude</th>\n",
       "      <th>wpt_name</th>\n",
       "      <th>num_private</th>\n",
       "      <th>...</th>\n",
       "      <th>water_quality</th>\n",
       "      <th>quality_group</th>\n",
       "      <th>quantity</th>\n",
       "      <th>quantity_group</th>\n",
       "      <th>source</th>\n",
       "      <th>source_type</th>\n",
       "      <th>source_class</th>\n",
       "      <th>waterpoint_type</th>\n",
       "      <th>waterpoint_type_group</th>\n",
       "      <th>status_group</th>\n",
       "    </tr>\n",
       "  </thead>\n",
       "  <tbody>\n",
       "    <tr>\n",
       "      <th>0</th>\n",
       "      <td>69572</td>\n",
       "      <td>6000.0</td>\n",
       "      <td>2011-03-14</td>\n",
       "      <td>Roman</td>\n",
       "      <td>1390</td>\n",
       "      <td>Roman</td>\n",
       "      <td>34.938093</td>\n",
       "      <td>-9.856322</td>\n",
       "      <td>none</td>\n",
       "      <td>0</td>\n",
       "      <td>...</td>\n",
       "      <td>soft</td>\n",
       "      <td>good</td>\n",
       "      <td>enough</td>\n",
       "      <td>enough</td>\n",
       "      <td>spring</td>\n",
       "      <td>spring</td>\n",
       "      <td>groundwater</td>\n",
       "      <td>communal standpipe</td>\n",
       "      <td>communal standpipe</td>\n",
       "      <td>functional</td>\n",
       "    </tr>\n",
       "    <tr>\n",
       "      <th>1</th>\n",
       "      <td>8776</td>\n",
       "      <td>0.0</td>\n",
       "      <td>2013-03-06</td>\n",
       "      <td>Grumeti</td>\n",
       "      <td>1399</td>\n",
       "      <td>GRUMETI</td>\n",
       "      <td>34.698766</td>\n",
       "      <td>-2.147466</td>\n",
       "      <td>Zahanati</td>\n",
       "      <td>0</td>\n",
       "      <td>...</td>\n",
       "      <td>soft</td>\n",
       "      <td>good</td>\n",
       "      <td>insufficient</td>\n",
       "      <td>insufficient</td>\n",
       "      <td>rainwater harvesting</td>\n",
       "      <td>rainwater harvesting</td>\n",
       "      <td>surface</td>\n",
       "      <td>communal standpipe</td>\n",
       "      <td>communal standpipe</td>\n",
       "      <td>functional</td>\n",
       "    </tr>\n",
       "    <tr>\n",
       "      <th>2</th>\n",
       "      <td>34310</td>\n",
       "      <td>25.0</td>\n",
       "      <td>2013-02-25</td>\n",
       "      <td>Lottery Club</td>\n",
       "      <td>686</td>\n",
       "      <td>World vision</td>\n",
       "      <td>37.460664</td>\n",
       "      <td>-3.821329</td>\n",
       "      <td>Kwa Mahundi</td>\n",
       "      <td>0</td>\n",
       "      <td>...</td>\n",
       "      <td>soft</td>\n",
       "      <td>good</td>\n",
       "      <td>enough</td>\n",
       "      <td>enough</td>\n",
       "      <td>dam</td>\n",
       "      <td>dam</td>\n",
       "      <td>surface</td>\n",
       "      <td>communal standpipe multiple</td>\n",
       "      <td>communal standpipe</td>\n",
       "      <td>functional</td>\n",
       "    </tr>\n",
       "    <tr>\n",
       "      <th>3</th>\n",
       "      <td>67743</td>\n",
       "      <td>0.0</td>\n",
       "      <td>2013-01-28</td>\n",
       "      <td>Unicef</td>\n",
       "      <td>263</td>\n",
       "      <td>UNICEF</td>\n",
       "      <td>38.486161</td>\n",
       "      <td>-11.155298</td>\n",
       "      <td>Zahanati Ya Nanyumbu</td>\n",
       "      <td>0</td>\n",
       "      <td>...</td>\n",
       "      <td>soft</td>\n",
       "      <td>good</td>\n",
       "      <td>dry</td>\n",
       "      <td>dry</td>\n",
       "      <td>machine dbh</td>\n",
       "      <td>borehole</td>\n",
       "      <td>groundwater</td>\n",
       "      <td>communal standpipe multiple</td>\n",
       "      <td>communal standpipe</td>\n",
       "      <td>non functional</td>\n",
       "    </tr>\n",
       "    <tr>\n",
       "      <th>4</th>\n",
       "      <td>19728</td>\n",
       "      <td>0.0</td>\n",
       "      <td>2011-07-13</td>\n",
       "      <td>Action In A</td>\n",
       "      <td>0</td>\n",
       "      <td>Artisan</td>\n",
       "      <td>31.130847</td>\n",
       "      <td>-1.825359</td>\n",
       "      <td>Shuleni</td>\n",
       "      <td>0</td>\n",
       "      <td>...</td>\n",
       "      <td>soft</td>\n",
       "      <td>good</td>\n",
       "      <td>seasonal</td>\n",
       "      <td>seasonal</td>\n",
       "      <td>rainwater harvesting</td>\n",
       "      <td>rainwater harvesting</td>\n",
       "      <td>surface</td>\n",
       "      <td>communal standpipe</td>\n",
       "      <td>communal standpipe</td>\n",
       "      <td>functional</td>\n",
       "    </tr>\n",
       "  </tbody>\n",
       "</table>\n",
       "<p>5 rows × 41 columns</p>\n",
       "</div>"
      ],
      "text/plain": [
       "      id  amount_tsh date_recorded        funder  gps_height     installer  \\\n",
       "0  69572      6000.0    2011-03-14         Roman        1390         Roman   \n",
       "1   8776         0.0    2013-03-06       Grumeti        1399       GRUMETI   \n",
       "2  34310        25.0    2013-02-25  Lottery Club         686  World vision   \n",
       "3  67743         0.0    2013-01-28        Unicef         263        UNICEF   \n",
       "4  19728         0.0    2011-07-13   Action In A           0       Artisan   \n",
       "\n",
       "   longitude   latitude              wpt_name  num_private  ... water_quality  \\\n",
       "0  34.938093  -9.856322                  none            0  ...          soft   \n",
       "1  34.698766  -2.147466              Zahanati            0  ...          soft   \n",
       "2  37.460664  -3.821329           Kwa Mahundi            0  ...          soft   \n",
       "3  38.486161 -11.155298  Zahanati Ya Nanyumbu            0  ...          soft   \n",
       "4  31.130847  -1.825359               Shuleni            0  ...          soft   \n",
       "\n",
       "  quality_group      quantity  quantity_group                source  \\\n",
       "0          good        enough          enough                spring   \n",
       "1          good  insufficient    insufficient  rainwater harvesting   \n",
       "2          good        enough          enough                   dam   \n",
       "3          good           dry             dry           machine dbh   \n",
       "4          good      seasonal        seasonal  rainwater harvesting   \n",
       "\n",
       "            source_type source_class              waterpoint_type  \\\n",
       "0                spring  groundwater           communal standpipe   \n",
       "1  rainwater harvesting      surface           communal standpipe   \n",
       "2                   dam      surface  communal standpipe multiple   \n",
       "3              borehole  groundwater  communal standpipe multiple   \n",
       "4  rainwater harvesting      surface           communal standpipe   \n",
       "\n",
       "  waterpoint_type_group    status_group  \n",
       "0    communal standpipe      functional  \n",
       "1    communal standpipe      functional  \n",
       "2    communal standpipe      functional  \n",
       "3    communal standpipe  non functional  \n",
       "4    communal standpipe      functional  \n",
       "\n",
       "[5 rows x 41 columns]"
      ]
     },
     "execution_count": 4,
     "metadata": {},
     "output_type": "execute_result"
    }
   ],
   "source": [
    "df['date_recorded'] = pd.to_datetime(df['date_recorded'], format='%Y-%m-%d')\n",
    "df.head()"
   ]
  },
  {
   "cell_type": "markdown",
   "metadata": {
    "cell_id": "00005-91b2f65d-318a-470e-a455-0e0f7afd3b8b",
    "deepnote_app_coordinates": {
     "h": 2,
     "w": 24,
     "x": 0,
     "y": 0
    },
    "deepnote_cell_type": "text-cell-h2",
    "is_collapsed": false,
    "tags": []
   },
   "source": [
    "## Helper Functions"
   ]
  },
  {
   "cell_type": "code",
   "execution_count": 5,
   "metadata": {
    "cell_id": "00006-fe93141e-bbdc-4454-a410-5af90f4a95b3",
    "deepnote_app_coordinates": {
     "h": 5,
     "w": 24,
     "x": 0,
     "y": 0
    },
    "deepnote_cell_type": "code",
    "deepnote_to_be_reexecuted": false,
    "execution_millis": 26,
    "execution_start": 1631635288022,
    "source_hash": "4a56c774",
    "tags": []
   },
   "outputs": [],
   "source": [
    "def correlation_to_cts(df, cts_col):\n",
    "    df_dummies = pd.get_dummies(df['status_group'])\n",
    "    df_new = pd.concat([df, df_dummies], axis=1)\n",
    "    df_check = df_new[[cts_col, 'functional', 'functional needs repair', 'non functional']]\n",
    "    sns.heatmap(df_check.corr())"
   ]
  },
  {
   "cell_type": "code",
   "execution_count": 6,
   "metadata": {
    "cell_id": "00007-d700b4f0-33c9-4792-a5d8-0952090726cc",
    "deepnote_app_coordinates": {
     "h": 5,
     "w": 24,
     "x": 0,
     "y": 0
    },
    "deepnote_cell_type": "code",
    "deepnote_to_be_reexecuted": false,
    "execution_millis": 0,
    "execution_start": 1631635288061,
    "source_hash": "ffda065a",
    "tags": []
   },
   "outputs": [],
   "source": [
    "def standardize(values):\n",
    "    return (values - values.mean()) / values.std()"
   ]
  },
  {
   "cell_type": "code",
   "execution_count": 7,
   "metadata": {
    "allow_embed": "code_output",
    "cell_id": "00008-2a68fbc2-0b9d-4f3b-9b12-3988b0921455",
    "deepnote_app_coordinates": {
     "h": 5,
     "w": 24,
     "x": 0,
     "y": 0
    },
    "deepnote_cell_type": "code",
    "deepnote_to_be_reexecuted": false,
    "execution_millis": 48,
    "execution_start": 1631635288071,
    "source_hash": "b1d3c8b3",
    "tags": []
   },
   "outputs": [],
   "source": [
    "def label_encode(series, low_count=None):\n",
    "    series = series.copy()\n",
    "\n",
    "    if low_count:\n",
    "        # assume str type if low count is present\n",
    "        low_vals = [k for k, v in series.value_counts().items() if v < low_count]\n",
    "        series = series.replace({val:'#NA#' for val in low_vals})\n",
    "\n",
    "    labelencoder = LabelEncoder()\n",
    "    encoded = labelencoder.fit_transform(series).astype(int)\n",
    "    return encoded, labelencoder.classes_"
   ]
  },
  {
   "cell_type": "code",
   "execution_count": 8,
   "metadata": {
    "cell_id": "00010-513d5752-22a1-46f6-ab94-c2e05a8ee590",
    "deepnote_app_coordinates": {
     "h": 5,
     "w": 24,
     "x": 0,
     "y": 0
    },
    "deepnote_cell_type": "code",
    "deepnote_to_be_reexecuted": false,
    "execution_millis": 5,
    "execution_start": 1631636523751,
    "source_hash": "e3cdf31f",
    "tags": []
   },
   "outputs": [],
   "source": [
    "def clean_text(series):\n",
    "    series_filled = series.fillna('#na#')\n",
    "    series_lowered = series_filled.str.lower()\n",
    "    series_replaced = series_lowered.str.replace(r\"[^\\w\\s]\", \"\", regex=True)\n",
    "    print(f\"Reduced {len(series_filled.unique())} to {len(series_replaced.unique())} columns\")\n",
    "    return series_replaced\n",
    "\n",
    "def replace_phrase(series, phrases):\n",
    "    series = clean_text(series)\n",
    "    new_vals = []\n",
    "    for val in series:\n",
    "        for phrase in phrases:\n",
    "            if phrase in val:\n",
    "                new_vals.append(phrase)\n",
    "                break\n",
    "        else:\n",
    "            new_vals.append(val)\n",
    "    return pd.Series(new_vals)"
   ]
  },
  {
   "cell_type": "code",
   "execution_count": 9,
   "metadata": {
    "cell_id": "00011-a2124232-9147-4be7-9ee4-6c3ad5fb7229",
    "deepnote_app_coordinates": {
     "h": 5,
     "w": 24,
     "x": 0,
     "y": 0
    },
    "deepnote_cell_type": "code",
    "deepnote_to_be_reexecuted": false,
    "execution_millis": 103,
    "execution_start": 1631636806689,
    "source_hash": "b40af616",
    "tags": []
   },
   "outputs": [
    {
     "name": "stdout",
     "output_type": "stream",
     "text": [
      "Reduced 2141 to 2141 columns\n"
     ]
    },
    {
     "data": {
      "text/plain": [
       "gover                  11609\n",
       "na                      4504\n",
       "danida                  3907\n",
       "hesa                    2799\n",
       "kkkt                    1863\n",
       "                       ...  \n",
       "dwsdp                      1\n",
       "subvillage                 1\n",
       "holili water supply        1\n",
       "duka                       1\n",
       "velem                      1\n",
       "Length: 1950, dtype: int64"
      ]
     },
     "execution_count": 9,
     "metadata": {},
     "output_type": "execute_result"
    }
   ],
   "source": [
    "replace_phrase(df['funder'], ['gover', 'church', 'comm', 'coun', 'kkkt', 'tcrs', 'islam', 'musl', 'hesa', 'germ']).value_counts()"
   ]
  },
  {
   "cell_type": "markdown",
   "metadata": {
    "cell_id": "00004-b969a3bf-68f2-495d-afe2-b732fd6cd494",
    "deepnote_app_coordinates": {
     "h": 2,
     "w": 24,
     "x": 0,
     "y": 0
    },
    "deepnote_cell_type": "text-cell-h2",
    "is_collapsed": false,
    "tags": []
   },
   "source": [
    "## Exploratory Data Analysis"
   ]
  },
  {
   "cell_type": "code",
   "execution_count": 10,
   "metadata": {
    "cell_id": "00004-e29b6321-30fc-4ec5-bf56-1f39be6afcc0",
    "deepnote_app_coordinates": {
     "h": 5,
     "w": 24,
     "x": 0,
     "y": 24
    },
    "deepnote_cell_type": "code",
    "deepnote_to_be_reexecuted": false,
    "execution_millis": 32,
    "execution_start": 1631635288120,
    "source_hash": "25d43fa0",
    "tags": []
   },
   "outputs": [
    {
     "data": {
      "text/plain": [
       "Index(['id', 'amount_tsh', 'date_recorded', 'funder', 'gps_height',\n",
       "       'installer', 'longitude', 'latitude', 'wpt_name', 'num_private',\n",
       "       'basin', 'subvillage', 'region', 'region_code', 'district_code', 'lga',\n",
       "       'ward', 'population', 'public_meeting', 'recorded_by',\n",
       "       'scheme_management', 'scheme_name', 'permit', 'construction_year',\n",
       "       'extraction_type', 'extraction_type_group', 'extraction_type_class',\n",
       "       'management', 'management_group', 'payment', 'payment_type',\n",
       "       'water_quality', 'quality_group', 'quantity', 'quantity_group',\n",
       "       'source', 'source_type', 'source_class', 'waterpoint_type',\n",
       "       'waterpoint_type_group', 'status_group'],\n",
       "      dtype='object')"
      ]
     },
     "execution_count": 10,
     "metadata": {},
     "output_type": "execute_result"
    }
   ],
   "source": [
    "df.columns"
   ]
  },
  {
   "cell_type": "code",
   "execution_count": 11,
   "metadata": {
    "cell_id": "00004-944ce3ac-2d27-400e-9ac7-9d655baf8358",
    "deepnote_app_coordinates": {
     "h": 5,
     "w": 24,
     "x": 0,
     "y": 30
    },
    "deepnote_cell_type": "code",
    "deepnote_to_be_reexecuted": false,
    "execution_millis": 517,
    "execution_start": 1631635288123,
    "source_hash": "376c97e5",
    "tags": []
   },
   "outputs": [
    {
     "data": {
      "text/plain": [
       "<AxesSubplot:xlabel='count', ylabel='status_group'>"
      ]
     },
     "execution_count": 11,
     "metadata": {},
     "output_type": "execute_result"
    },
    {
     "data": {
      "image/png": "[encoded data removed]",
      "text/plain": [
       "<Figure size 432x288 with 1 Axes>"
      ]
     },
     "metadata": {
      "needs_background": "light"
     },
     "output_type": "display_data"
    }
   ],
   "source": [
    "sns.countplot(data=df.fillna(\"Unlabeled (Test Data)\"), y=\"status_group\")"
   ]
  },
  {
   "cell_type": "markdown",
   "metadata": {
    "cell_id": "00008-82287535-29d5-42fc-8220-112b51859b4a",
    "deepnote_app_coordinates": {
     "h": 2,
     "w": 24,
     "x": 0,
     "y": 0
    },
    "deepnote_cell_type": "text-cell-h3",
    "is_collapsed": false,
    "tags": []
   },
   "source": [
    "### Missing Values"
   ]
  },
  {
   "cell_type": "code",
   "execution_count": 12,
   "metadata": {
    "cell_id": "00006-c987f025-bb0f-47f3-93e9-193db540c5cc",
    "deepnote_app_coordinates": {
     "h": 5,
     "w": 24,
     "x": 0,
     "y": 0
    },
    "deepnote_cell_type": "code",
    "deepnote_to_be_reexecuted": false,
    "execution_millis": 156,
    "execution_start": 1631635288817,
    "source_hash": "9630a1d8",
    "tags": []
   },
   "outputs": [
    {
     "data": {
      "text/html": [
       "<div>\n",
       "<style scoped>\n",
       "    .dataframe tbody tr th:only-of-type {\n",
       "        vertical-align: middle;\n",
       "    }\n",
       "\n",
       "    .dataframe tbody tr th {\n",
       "        vertical-align: top;\n",
       "    }\n",
       "\n",
       "    .dataframe thead th {\n",
       "        text-align: right;\n",
       "    }\n",
       "</style>\n",
       "<table border=\"1\" class=\"dataframe\">\n",
       "  <thead>\n",
       "    <tr style=\"text-align: right;\">\n",
       "      <th></th>\n",
       "      <th>missing_count</th>\n",
       "      <th>missing_ratio</th>\n",
       "    </tr>\n",
       "  </thead>\n",
       "  <tbody>\n",
       "    <tr>\n",
       "      <th>funder</th>\n",
       "      <td>4504</td>\n",
       "      <td>0.060660</td>\n",
       "    </tr>\n",
       "    <tr>\n",
       "      <th>installer</th>\n",
       "      <td>4532</td>\n",
       "      <td>0.061037</td>\n",
       "    </tr>\n",
       "    <tr>\n",
       "      <th>subvillage</th>\n",
       "      <td>470</td>\n",
       "      <td>0.006330</td>\n",
       "    </tr>\n",
       "    <tr>\n",
       "      <th>public_meeting</th>\n",
       "      <td>4155</td>\n",
       "      <td>0.055960</td>\n",
       "    </tr>\n",
       "    <tr>\n",
       "      <th>scheme_management</th>\n",
       "      <td>4846</td>\n",
       "      <td>0.065266</td>\n",
       "    </tr>\n",
       "    <tr>\n",
       "      <th>scheme_name</th>\n",
       "      <td>35258</td>\n",
       "      <td>0.474855</td>\n",
       "    </tr>\n",
       "    <tr>\n",
       "      <th>permit</th>\n",
       "      <td>3793</td>\n",
       "      <td>0.051084</td>\n",
       "    </tr>\n",
       "    <tr>\n",
       "      <th>status_group</th>\n",
       "      <td>14850</td>\n",
       "      <td>0.200000</td>\n",
       "    </tr>\n",
       "  </tbody>\n",
       "</table>\n",
       "</div>"
      ],
      "text/plain": [
       "                   missing_count  missing_ratio\n",
       "funder                      4504       0.060660\n",
       "installer                   4532       0.061037\n",
       "subvillage                   470       0.006330\n",
       "public_meeting              4155       0.055960\n",
       "scheme_management           4846       0.065266\n",
       "scheme_name                35258       0.474855\n",
       "permit                      3793       0.051084\n",
       "status_group               14850       0.200000"
      ]
     },
     "execution_count": 12,
     "metadata": {},
     "output_type": "execute_result"
    }
   ],
   "source": [
    "(df.isna()\n",
    "    .sum()\n",
    "    .to_frame('missing_count')\n",
    "    .assign(missing_ratio = lambda x: x['missing_count']/len(df))\n",
    "    .loc[df.isna().any()])"
   ]
  },
  {
   "cell_type": "code",
   "execution_count": 13,
   "metadata": {
    "cell_id": "00011-46bbce95-a9ab-42cb-b6c8-16afa89cacd7",
    "deepnote_app_coordinates": {
     "h": 5,
     "w": 24,
     "x": 0,
     "y": 0
    },
    "deepnote_cell_type": "code",
    "deepnote_to_be_reexecuted": false,
    "execution_millis": 321,
    "execution_start": 1631635289238,
    "source_hash": "591b579",
    "tags": []
   },
   "outputs": [
    {
     "data": {
      "text/html": [
       "<div>\n",
       "<style scoped>\n",
       "    .dataframe tbody tr th:only-of-type {\n",
       "        vertical-align: middle;\n",
       "    }\n",
       "\n",
       "    .dataframe tbody tr th {\n",
       "        vertical-align: top;\n",
       "    }\n",
       "\n",
       "    .dataframe thead th {\n",
       "        text-align: right;\n",
       "    }\n",
       "</style>\n",
       "<table border=\"1\" class=\"dataframe\">\n",
       "  <thead>\n",
       "    <tr style=\"text-align: right;\">\n",
       "      <th></th>\n",
       "      <th>zero_count</th>\n",
       "      <th>zero_ratio</th>\n",
       "    </tr>\n",
       "  </thead>\n",
       "  <tbody>\n",
       "    <tr>\n",
       "      <th>id</th>\n",
       "      <td>1</td>\n",
       "      <td>0.000013</td>\n",
       "    </tr>\n",
       "    <tr>\n",
       "      <th>amount_tsh</th>\n",
       "      <td>52049</td>\n",
       "      <td>0.700997</td>\n",
       "    </tr>\n",
       "    <tr>\n",
       "      <th>gps_height</th>\n",
       "      <td>25649</td>\n",
       "      <td>0.345441</td>\n",
       "    </tr>\n",
       "    <tr>\n",
       "      <th>longitude</th>\n",
       "      <td>2269</td>\n",
       "      <td>0.030559</td>\n",
       "    </tr>\n",
       "    <tr>\n",
       "      <th>num_private</th>\n",
       "      <td>73299</td>\n",
       "      <td>0.987192</td>\n",
       "    </tr>\n",
       "    <tr>\n",
       "      <th>district_code</th>\n",
       "      <td>27</td>\n",
       "      <td>0.000364</td>\n",
       "    </tr>\n",
       "    <tr>\n",
       "      <th>population</th>\n",
       "      <td>26834</td>\n",
       "      <td>0.361401</td>\n",
       "    </tr>\n",
       "    <tr>\n",
       "      <th>public_meeting</th>\n",
       "      <td>6346</td>\n",
       "      <td>0.085468</td>\n",
       "    </tr>\n",
       "    <tr>\n",
       "      <th>permit</th>\n",
       "      <td>21851</td>\n",
       "      <td>0.294290</td>\n",
       "    </tr>\n",
       "    <tr>\n",
       "      <th>construction_year</th>\n",
       "      <td>25969</td>\n",
       "      <td>0.349751</td>\n",
       "    </tr>\n",
       "  </tbody>\n",
       "</table>\n",
       "</div>"
      ],
      "text/plain": [
       "                   zero_count  zero_ratio\n",
       "id                          1    0.000013\n",
       "amount_tsh              52049    0.700997\n",
       "gps_height              25649    0.345441\n",
       "longitude                2269    0.030559\n",
       "num_private             73299    0.987192\n",
       "district_code              27    0.000364\n",
       "population              26834    0.361401\n",
       "public_meeting           6346    0.085468\n",
       "permit                  21851    0.294290\n",
       "construction_year       25969    0.349751"
      ]
     },
     "execution_count": 13,
     "metadata": {},
     "output_type": "execute_result"
    }
   ],
   "source": [
    "((df == 0)\n",
    "    .sum(axis=0)\n",
    "    .to_frame('zero_count')\n",
    "    .assign(zero_ratio = lambda x: x['zero_count']/len(df))\n",
    "    .loc[(df == 0).sum(axis=0) > 0])"
   ]
  },
  {
   "cell_type": "markdown",
   "metadata": {
    "cell_id": "00013-3f1fb150-e185-473a-a71d-c15706b23a8a",
    "deepnote_app_coordinates": {
     "h": 2,
     "w": 24,
     "x": 0,
     "y": 0
    },
    "deepnote_cell_type": "text-cell-p",
    "is_collapsed": false,
    "tags": []
   },
   "source": [
    "In below titles (Z) indicates that the column has an unusual amount of zero values, and (M) if it has missing values."
   ]
  },
  {
   "cell_type": "markdown",
   "metadata": {
    "cell_id": "00005-681c8829-74ec-495f-b3f0-3023291dea36",
    "deepnote_app_coordinates": {
     "h": 2,
     "w": 24,
     "x": 0,
     "y": 42
    },
    "deepnote_cell_type": "text-cell-h3",
    "is_collapsed": false,
    "tags": []
   },
   "source": [
    "### Amount tsh"
   ]
  },
  {
   "cell_type": "code",
   "execution_count": 14,
   "metadata": {
    "cell_id": "00006-0c395bca-1cfb-4db5-92d9-6bda1974bd48",
    "deepnote_app_coordinates": {
     "h": 5,
     "w": 24,
     "x": 0,
     "y": 51
    },
    "deepnote_cell_type": "code",
    "deepnote_to_be_reexecuted": false,
    "execution_millis": 2050,
    "execution_start": 1631635289488,
    "source_hash": "ba739393",
    "tags": []
   },
   "outputs": [
    {
     "data": {
      "text/plain": [
       "<seaborn.axisgrid.FacetGrid at 0x7fc475293bb0>"
      ]
     },
     "execution_count": 14,
     "metadata": {},
     "output_type": "execute_result"
    },
    {
     "data": {
      "image/png": "[encoded data removed]",
      "text/plain": [
       "<Figure size 511.875x360 with 1 Axes>"
      ]
     },
     "metadata": {
      "needs_background": "light"
     },
     "output_type": "display_data"
    }
   ],
   "source": [
    "sns.displot(data=df[df['amount_tsh'] > 0], x='amount_tsh', log_scale=True, hue='status_group')"
   ]
  },
  {
   "cell_type": "code",
   "execution_count": 15,
   "metadata": {
    "cell_id": "00015-158d5cf7-2b12-44a4-9ea3-e5c460f022da",
    "deepnote_app_coordinates": {
     "h": 5,
     "w": 24,
     "x": 0,
     "y": 0
    },
    "deepnote_cell_type": "code",
    "deepnote_to_be_reexecuted": false,
    "execution_millis": 1062,
    "execution_start": 1631635291547,
    "source_hash": "67962beb",
    "tags": []
   },
   "outputs": [
    {
     "data": {
      "text/plain": [
       "<seaborn.axisgrid.FacetGrid at 0x7fc474ac3b50>"
      ]
     },
     "execution_count": 15,
     "metadata": {},
     "output_type": "execute_result"
    },
    {
     "data": {
      "image/png": "[encoded data removed]",
      "text/plain": [
       "<Figure size 511.875x360 with 1 Axes>"
      ]
     },
     "metadata": {
      "needs_background": "light"
     },
     "output_type": "display_data"
    }
   ],
   "source": [
    "df_ = df.copy()\n",
    "df_['amount_tsh_missing'] = (df_['amount_tsh'] == 0).astype(int)\n",
    "df_['amount_tsh_log_std'] = standardize(np.log(df_['amount_tsh'] + 0.01))\n",
    "sns.displot(data=df_[df_['amount_tsh_missing'] == 0], x='amount_tsh_log_std', hue='status_group')"
   ]
  },
  {
   "cell_type": "code",
   "execution_count": 16,
   "metadata": {
    "cell_id": "00016-7f00ae8a-5b8e-47b8-aa25-c3fb3d7e1d95",
    "deepnote_app_coordinates": {
     "h": 5,
     "w": 24,
     "x": 0,
     "y": 0
    },
    "deepnote_cell_type": "code",
    "deepnote_to_be_reexecuted": false,
    "execution_millis": 281,
    "execution_start": 1631635292613,
    "source_hash": "6ce83981",
    "tags": []
   },
   "outputs": [
    {
     "data": {
      "text/plain": [
       "<AxesSubplot:xlabel='amount_tsh_missing', ylabel='count'>"
      ]
     },
     "execution_count": 16,
     "metadata": {},
     "output_type": "execute_result"
    },
    {
     "data": {
      "image/png": "[encoded data removed]",
      "text/plain": [
       "<Figure size 432x288 with 1 Axes>"
      ]
     },
     "metadata": {
      "needs_background": "light"
     },
     "output_type": "display_data"
    }
   ],
   "source": [
    "sns.countplot(data=df_, x='amount_tsh_missing', hue='status_group')"
   ]
  },
  {
   "cell_type": "markdown",
   "metadata": {
    "cell_id": "00005-a0abab9b-aef0-4391-97c8-54183671fab9",
    "deepnote_app_coordinates": {
     "h": 2,
     "w": 24,
     "x": 0,
     "y": 69
    },
    "deepnote_cell_type": "text-cell-h3",
    "is_collapsed": false,
    "tags": []
   },
   "source": [
    "### Date Recorded"
   ]
  },
  {
   "cell_type": "markdown",
   "metadata": {
    "cell_id": "00006-5c3e9a50-d06e-4478-9513-cade797b5c6b",
    "deepnote_app_coordinates": {
     "h": 5,
     "w": 24,
     "x": 0,
     "y": 72
    },
    "deepnote_cell_type": "markdown",
    "tags": []
   },
   "source": [
    "Add additional column so we can group by the year-month combination easily. Then find the percentage of functional/non functional/need repair in each month.\n",
    "If this is mostly constant, we can assume date recorded to not have any effect on target."
   ]
  },
  {
   "cell_type": "code",
   "execution_count": 17,
   "metadata": {
    "cell_id": "00006-89893faa-303c-4b2b-bcfe-a0fafc3fcfe9",
    "deepnote_app_coordinates": {
     "h": 5,
     "w": 24,
     "x": 0,
     "y": 78
    },
    "deepnote_cell_type": "code",
    "deepnote_to_be_reexecuted": false,
    "execution_millis": 426,
    "execution_start": 1631635292896,
    "source_hash": "10af982f",
    "tags": []
   },
   "outputs": [],
   "source": [
    "df_ = df.copy()\n",
    "df_['date_recorded_ym'] = df_['date_recorded'].map(lambda d: d.year*12 + d.month)"
   ]
  },
  {
   "cell_type": "code",
   "execution_count": 18,
   "metadata": {
    "cell_id": "00007-2ee4ff9f-cf51-4934-895d-31b5a3605d00",
    "deepnote_app_coordinates": {
     "h": 5,
     "w": 24,
     "x": 0,
     "y": 84
    },
    "deepnote_cell_type": "code",
    "deepnote_to_be_reexecuted": false,
    "execution_millis": 454,
    "execution_start": 1631635293333,
    "source_hash": "1a5124ed",
    "tags": []
   },
   "outputs": [
    {
     "data": {
      "image/png": "[encoded data removed]",
      "text/plain": [
       "<Figure size 1440x360 with 1 Axes>"
      ]
     },
     "metadata": {
      "needs_background": "light"
     },
     "output_type": "display_data"
    }
   ],
   "source": [
    "df_['status_group'] = df_['status_group'].fillna('test')\n",
    "df__ = df_.groupby('date_recorded_ym')['status_group'].value_counts(normalize=True).unstack()\n",
    "fig = plt.figure(figsize=(20,5))\n",
    "ax = plt.subplot()\n",
    "sns.scatterplot(data=df__, y='functional', x='date_recorded_ym', ax=ax, label='functional')\n",
    "sns.scatterplot(data=df__, y='non functional', x='date_recorded_ym', ax=ax, label='non functional')\n",
    "sns.scatterplot(data=df__, y='functional needs repair', x='date_recorded_ym', ax=ax, label='functional needs repair')\n",
    "sns.scatterplot(data=df__, y='test', x='date_recorded_ym', ax=ax, label='test')\n",
    "del df__"
   ]
  },
  {
   "cell_type": "markdown",
   "metadata": {
    "cell_id": "00009-2ee19510-f6ca-48e7-8e62-fba83e088290",
    "deepnote_app_coordinates": {
     "h": 5,
     "w": 24,
     "x": 0,
     "y": 90
    },
    "deepnote_cell_type": "markdown",
    "tags": []
   },
   "source": [
    "There seems to be only a few date recorded clusters. So we can combine them to 3 groups. `A < 24080 < B < 24150 < C`"
   ]
  },
  {
   "cell_type": "code",
   "execution_count": 19,
   "metadata": {
    "cell_id": "00010-a2c086c7-55a5-4a31-956c-cc064ca83cc2",
    "deepnote_app_coordinates": {
     "h": 5,
     "w": 24,
     "x": 0,
     "y": 96
    },
    "deepnote_cell_type": "code",
    "deepnote_to_be_reexecuted": false,
    "execution_millis": 328,
    "execution_start": 1631635293777,
    "source_hash": "88bfdc67",
    "tags": []
   },
   "outputs": [
    {
     "data": {
      "image/png": "[encoded data removed]",
      "text/plain": [
       "<Figure size 432x288 with 1 Axes>"
      ]
     },
     "metadata": {
      "needs_background": "light"
     },
     "output_type": "display_data"
    }
   ],
   "source": [
    "df_['date_recorded_grp'] = 2\n",
    "df_.loc[df_['date_recorded_ym'] < 24150, 'date_recorded_grp'] = 1\n",
    "df_.loc[df_['date_recorded_ym'] < 24080, 'date_recorded_grp'] = 0\n",
    "\n",
    "ax = sns.countplot(data=df_, x='date_recorded_grp', hue='status_group')"
   ]
  },
  {
   "cell_type": "markdown",
   "metadata": {
    "cell_id": "00011-108cff64-2812-4b8f-b8c4-5ace33a49130",
    "deepnote_app_coordinates": {
     "h": 2,
     "w": 24,
     "x": 0,
     "y": 102
    },
    "deepnote_cell_type": "text-cell-p",
    "is_collapsed": false,
    "tags": []
   },
   "source": [
    "So there does not seem to much of an effect of date_recorded."
   ]
  },
  {
   "cell_type": "markdown",
   "metadata": {
    "cell_id": "00008-ae0959f0-6e5d-4c5f-801d-c74c212c26bd",
    "deepnote_app_coordinates": {
     "h": 2,
     "w": 24,
     "x": 0,
     "y": 105
    },
    "deepnote_cell_type": "text-cell-h3",
    "is_collapsed": false,
    "tags": []
   },
   "source": [
    "### Funder"
   ]
  },
  {
   "cell_type": "markdown",
   "metadata": {
    "cell_id": "00012-09107453-a6db-48d4-aa77-662cd0533f5a",
    "deepnote_app_coordinates": {
     "h": 5,
     "w": 24,
     "x": 0,
     "y": 108
    },
    "deepnote_cell_type": "markdown",
    "tags": []
   },
   "source": [
    "To reduce the cardinality, we can remove funders with less than 20 fundings. (Mark them as Other)"
   ]
  },
  {
   "cell_type": "code",
   "execution_count": 20,
   "metadata": {
    "cell_id": "00029-c88f7fb8-0fc8-45b3-a46b-bc4207c5c32a",
    "deepnote_app_coordinates": {
     "h": 5,
     "w": 24,
     "x": 0,
     "y": 0
    },
    "deepnote_cell_type": "code",
    "deepnote_to_be_reexecuted": false,
    "execution_millis": 276,
    "execution_start": 1631635294111,
    "source_hash": "af2333aa",
    "tags": []
   },
   "outputs": [
    {
     "name": "stderr",
     "output_type": "stream",
     "text": [
      "/home/kdsuneraavinash/.virtualenvs/ml-project-pump-it-up/lib/python3.9/site-packages/seaborn/_decorators.py:36: FutureWarning: Pass the following variable as a keyword arg: x. From version 0.12, the only valid positional argument will be `data`, and passing other arguments without an explicit keyword will result in an error or misinterpretation.\n",
      "  warnings.warn(\n"
     ]
    },
    {
     "data": {
      "text/plain": [
       "<AxesSubplot:xlabel='funder', ylabel='count'>"
      ]
     },
     "execution_count": 20,
     "metadata": {},
     "output_type": "execute_result"
    },
    {
     "data": {
      "image/png": "[encoded data removed]",
      "text/plain": [
       "<Figure size 432x288 with 1 Axes>"
      ]
     },
     "metadata": {
      "needs_background": "light"
     },
     "output_type": "display_data"
    }
   ],
   "source": [
    "val_counts = df['funder'].value_counts()\n",
    "val_counts = val_counts[val_counts < 10]\n",
    "sns.countplot(val_counts)"
   ]
  },
  {
   "cell_type": "code",
   "execution_count": 21,
   "metadata": {
    "cell_id": "00012-e19b2900-5ce9-4f3c-822a-c44a451a275e",
    "deepnote_app_coordinates": {
     "h": 5,
     "w": 24,
     "x": 0,
     "y": 114
    },
    "deepnote_cell_type": "code",
    "deepnote_to_be_reexecuted": false,
    "execution_millis": 51,
    "execution_start": 1631635294339,
    "source_hash": "cdba9be0",
    "tags": []
   },
   "outputs": [
    {
     "data": {
      "text/plain": [
       "Government Of Tanzania    11299\n",
       "Danida                     3907\n",
       "Hesawa                     2782\n",
       "Rwssp                      1703\n",
       "World Bank                 1701\n",
       "                          ...  \n",
       "Undp                        103\n",
       "Rc Ch                       103\n",
       "Missi                       102\n",
       "Gtz                         102\n",
       "H                           102\n",
       "Name: funder, Length: 101, dtype: int64"
      ]
     },
     "execution_count": 21,
     "metadata": {},
     "output_type": "execute_result"
    }
   ],
   "source": [
    "df_ = df.copy()\n",
    "df_.loc[df_.groupby('funder').funder.transform('count').lt(100), 'funder'] = pd.NA\n",
    "\n",
    "df_['funder'].value_counts()"
   ]
  },
  {
   "cell_type": "code",
   "execution_count": 22,
   "metadata": {
    "cell_id": "00013-92766435-3df1-42e3-a7fa-d6c29c508964",
    "deepnote_app_coordinates": {
     "h": 5,
     "w": 24,
     "x": 0,
     "y": 120
    },
    "deepnote_cell_type": "code",
    "deepnote_to_be_reexecuted": false,
    "execution_millis": 509,
    "execution_start": 1631635294383,
    "source_hash": "4392c1e6",
    "tags": []
   },
   "outputs": [
    {
     "data": {
      "image/png": "[encoded data removed]",
      "text/plain": [
       "<Figure size 1728x360 with 1 Axes>"
      ]
     },
     "metadata": {
      "needs_background": "light"
     },
     "output_type": "display_data"
    }
   ],
   "source": [
    "# Plot all the funders with 1000\n",
    "df__ = df_[df_.groupby('funder').funder.transform('count').gt(1000)]\n",
    "\n",
    "fig = plt.figure(figsize=(24,5))\n",
    "ax = plt.subplot()\n",
    "sns.countplot(data=df__, x='funder', hue='status_group', ax=ax)\n",
    "\n",
    "del df__"
   ]
  },
  {
   "cell_type": "markdown",
   "metadata": {
    "cell_id": "00012-177f34fc-32cb-409f-b9e5-a8262cc06ef9",
    "deepnote_app_coordinates": {
     "h": 2,
     "w": 24,
     "x": 0,
     "y": 126
    },
    "deepnote_cell_type": "text-cell-h3",
    "is_collapsed": false,
    "tags": []
   },
   "source": [
    "### GPS Height"
   ]
  },
  {
   "cell_type": "code",
   "execution_count": 23,
   "metadata": {
    "cell_id": "00013-6991688c-888f-4008-9303-7fa259ec493c",
    "deepnote_app_coordinates": {
     "h": 5,
     "w": 24,
     "x": 0,
     "y": 129
    },
    "deepnote_cell_type": "code",
    "deepnote_to_be_reexecuted": false,
    "execution_millis": 910,
    "execution_start": 1631635294884,
    "source_hash": "f4a41e8c",
    "tags": []
   },
   "outputs": [
    {
     "data": {
      "text/plain": [
       "<seaborn.axisgrid.FacetGrid at 0x7fc470b72340>"
      ]
     },
     "execution_count": 23,
     "metadata": {},
     "output_type": "execute_result"
    },
    {
     "data": {
      "image/png": "[encoded data removed]",
      "text/plain": [
       "<Figure size 511.875x360 with 1 Axes>"
      ]
     },
     "metadata": {
      "needs_background": "light"
     },
     "output_type": "display_data"
    }
   ],
   "source": [
    "sns.displot(data=df[df.gps_height != 0], x=\"gps_height\", hue=\"status_group\")"
   ]
  },
  {
   "cell_type": "markdown",
   "metadata": {
    "cell_id": "00031-468ff156-fabf-462b-8116-0360e0503144",
    "deepnote_app_coordinates": {
     "h": 2,
     "w": 24,
     "x": 0,
     "y": 0
    },
    "deepnote_cell_type": "text-cell-p",
    "is_collapsed": false,
    "tags": []
   },
   "source": [
    "The zero values in this column seems to be real data and not missing values."
   ]
  },
  {
   "cell_type": "code",
   "execution_count": 24,
   "metadata": {
    "cell_id": "00024-a906cb8f-9ab2-4b47-9ba9-085ef54a8874",
    "deepnote_app_coordinates": {
     "h": 5,
     "w": 24,
     "x": 0,
     "y": 135
    },
    "deepnote_cell_type": "code",
    "deepnote_to_be_reexecuted": false,
    "execution_millis": 457,
    "execution_start": 1631635295807,
    "source_hash": "7baa5fdc",
    "tags": []
   },
   "outputs": [
    {
     "data": {
      "image/png": "[encoded data removed]",
      "text/plain": [
       "<Figure size 432x288 with 2 Axes>"
      ]
     },
     "metadata": {
      "needs_background": "light"
     },
     "output_type": "display_data"
    }
   ],
   "source": [
    "correlation_to_cts(df, 'gps_height')"
   ]
  },
  {
   "cell_type": "markdown",
   "metadata": {
    "cell_id": "00015-93e90ec2-6846-41d6-bad4-012a86e91806",
    "deepnote_app_coordinates": {
     "h": 2,
     "w": 24,
     "x": 0,
     "y": 141
    },
    "deepnote_cell_type": "text-cell-h3",
    "is_collapsed": false,
    "tags": []
   },
   "source": [
    "### Installer"
   ]
  },
  {
   "cell_type": "code",
   "execution_count": 25,
   "metadata": {
    "cell_id": "00036-93fd1fc0-ebe2-4970-955d-15678f1ca289",
    "deepnote_app_coordinates": {
     "h": 5,
     "w": 24,
     "x": 0,
     "y": 0
    },
    "deepnote_cell_type": "code",
    "deepnote_to_be_reexecuted": false,
    "execution_millis": 218,
    "execution_start": 1631635296243,
    "source_hash": "487b55f",
    "tags": []
   },
   "outputs": [
    {
     "name": "stderr",
     "output_type": "stream",
     "text": [
      "/home/kdsuneraavinash/.virtualenvs/ml-project-pump-it-up/lib/python3.9/site-packages/seaborn/_decorators.py:36: FutureWarning: Pass the following variable as a keyword arg: x. From version 0.12, the only valid positional argument will be `data`, and passing other arguments without an explicit keyword will result in an error or misinterpretation.\n",
      "  warnings.warn(\n"
     ]
    },
    {
     "data": {
      "text/plain": [
       "<AxesSubplot:xlabel='installer', ylabel='count'>"
      ]
     },
     "execution_count": 25,
     "metadata": {},
     "output_type": "execute_result"
    },
    {
     "data": {
      "image/png": "[encoded data removed]",
      "text/plain": [
       "<Figure size 432x288 with 1 Axes>"
      ]
     },
     "metadata": {
      "needs_background": "light"
     },
     "output_type": "display_data"
    }
   ],
   "source": [
    "val_counts = df['installer'].value_counts()\n",
    "val_counts = val_counts[val_counts < 10]\n",
    "sns.countplot(val_counts)"
   ]
  },
  {
   "cell_type": "code",
   "execution_count": 26,
   "metadata": {
    "cell_id": "00019-b9ae360e-c933-49ae-9829-6f398a2bc7bb",
    "deepnote_app_coordinates": {
     "h": 5,
     "w": 24,
     "x": 0,
     "y": 144
    },
    "deepnote_cell_type": "code",
    "deepnote_to_be_reexecuted": false,
    "execution_millis": 44,
    "execution_start": 1631635296506,
    "source_hash": "2b324a90",
    "tags": []
   },
   "outputs": [],
   "source": [
    "df_ = df.copy()\n",
    "\n",
    "df_.loc[df_['installer'] == '-', 'installer'] = pd.NA\n",
    "df_.loc[df_['installer'] == '0', 'installer'] = pd.NA\n",
    "df_.loc[df_.groupby('funder').funder.transform('count').lt(100), 'funder'] = pd.NA\n",
    "df_['installer'] = df_['installer'].fillna('Other')"
   ]
  },
  {
   "cell_type": "code",
   "execution_count": 27,
   "metadata": {
    "cell_id": "00019-5d2a8474-1f8b-412c-8c0c-e05b576d4085",
    "deepnote_app_coordinates": {
     "h": 5,
     "w": 24,
     "x": 0,
     "y": 150
    },
    "deepnote_cell_type": "code",
    "deepnote_to_be_reexecuted": false,
    "execution_millis": 582,
    "execution_start": 1631635296550,
    "source_hash": "d9ae82f5",
    "tags": []
   },
   "outputs": [
    {
     "data": {
      "image/png": "[encoded data removed]",
      "text/plain": [
       "<Figure size 1440x360 with 1 Axes>"
      ]
     },
     "metadata": {
      "needs_background": "light"
     },
     "output_type": "display_data"
    }
   ],
   "source": [
    "df__ = df_[df_.groupby('installer').installer.transform('count').gt(500)]\n",
    "fig = plt.figure(figsize=(20,5))\n",
    "sns.countplot(data=df__, x='installer', hue='status_group')\n",
    "del df__"
   ]
  },
  {
   "cell_type": "markdown",
   "metadata": {
    "cell_id": "00020-7c0e6a85-49a0-4048-afca-c0fd46186cfc",
    "deepnote_app_coordinates": {
     "h": 2,
     "w": 24,
     "x": 0,
     "y": 156
    },
    "deepnote_cell_type": "text-cell-h3",
    "is_collapsed": false,
    "tags": []
   },
   "source": [
    "### Longitude and latitude"
   ]
  },
  {
   "cell_type": "code",
   "execution_count": 28,
   "metadata": {
    "cell_id": "00021-7eaa175f-143a-40c7-8db0-77fe44a75c37",
    "deepnote_app_coordinates": {
     "h": 5,
     "w": 24,
     "x": 0,
     "y": 159
    },
    "deepnote_cell_type": "code",
    "deepnote_to_be_reexecuted": false,
    "execution_millis": 902,
    "execution_start": 1631635297116,
    "source_hash": "668f6124",
    "tags": []
   },
   "outputs": [
    {
     "name": "stderr",
     "output_type": "stream",
     "text": [
      "/home/kdsuneraavinash/.virtualenvs/ml-project-pump-it-up/lib/python3.9/site-packages/pyproj/crs/crs.py:131: FutureWarning: '+init=<authority>:<code>' syntax is deprecated. '<authority>:<code>' is the preferred initialization method. When making the change, be mindful of axis order changes: https://pyproj4.github.io/pyproj/stable/gotchas.html#axis-order-changes-in-proj-6\n",
      "  in_crs_string = _prepare_from_proj_string(in_crs_string)\n"
     ]
    }
   ],
   "source": [
    "geometry = [Point(xy) for xy in zip(df[\"longitude\"], df[\"latitude\"])]\n",
    "geo_df = gpd.GeoDataFrame(df, crs={'init': 'epsg:4326'}, geometry=geometry)\n",
    "world = gpd.read_file(gpd.datasets.get_path('naturalearth_lowres'))\n",
    "africa = world.query('continent == \"Africa\"')"
   ]
  },
  {
   "cell_type": "code",
   "execution_count": 29,
   "metadata": {
    "cell_id": "00022-dac4e73a-cb52-4da4-ab3c-6f893f9ab407",
    "deepnote_app_coordinates": {
     "h": 5,
     "w": 24,
     "x": 0,
     "y": 165
    },
    "deepnote_cell_type": "code",
    "deepnote_to_be_reexecuted": false,
    "execution_millis": 5161,
    "execution_start": 1631635297998,
    "source_hash": "709c687",
    "tags": []
   },
   "outputs": [
    {
     "data": {
      "text/plain": [
       "<AxesSubplot:>"
      ]
     },
     "execution_count": 29,
     "metadata": {},
     "output_type": "execute_result"
    },
    {
     "data": {
      "image/png": "[encoded data removed]",
      "text/plain": [
       "<Figure size 720x432 with 1 Axes>"
      ]
     },
     "metadata": {
      "needs_background": "light"
     },
     "output_type": "display_data"
    }
   ],
   "source": [
    "ax = africa.plot(figsize=(10, 6))\n",
    "geo_df[geo_df.status_group == \"non functional\"].plot(ax=ax, marker='o', color='red', markersize=15, alpha=0.2)\n",
    "geo_df[geo_df.status_group == \"functional\"].plot(ax=ax, marker='o', color='green', markersize=15, alpha=0.4)\n",
    "geo_df[geo_df.status_group == \"functional needs repair\"].plot(ax=ax, marker='o', color='yellow', markersize=15, alpha=0.1)"
   ]
  },
  {
   "cell_type": "markdown",
   "metadata": {
    "cell_id": "00025-a39bad9e-1073-4f53-a126-271a85de76b3",
    "deepnote_app_coordinates": {
     "h": 5,
     "w": 24,
     "x": 0,
     "y": 171
    },
    "deepnote_cell_type": "markdown",
    "tags": []
   },
   "source": [
    "Let's remove all the unrelated points."
   ]
  },
  {
   "cell_type": "code",
   "execution_count": 30,
   "metadata": {
    "cell_id": "00024-5fee8c78-a5b2-43df-8fa5-d2c1f39b6ec0",
    "deepnote_app_coordinates": {
     "h": 5,
     "w": 24,
     "x": 0,
     "y": 177
    },
    "deepnote_cell_type": "code",
    "deepnote_to_be_reexecuted": false,
    "execution_millis": 632,
    "execution_start": 1631635303110,
    "source_hash": "3bd64bff",
    "tags": []
   },
   "outputs": [
    {
     "data": {
      "text/plain": [
       "<AxesSubplot:>"
      ]
     },
     "execution_count": 30,
     "metadata": {},
     "output_type": "execute_result"
    },
    {
     "data": {
      "image/png": "[encoded data removed]",
      "text/plain": [
       "<Figure size 720x432 with 1 Axes>"
      ]
     },
     "metadata": {
      "needs_background": "light"
     },
     "output_type": "display_data"
    }
   ],
   "source": [
    "ax = africa.plot(figsize=(10, 6))\n",
    "geo_df[(geo_df.latitude < 10) & (geo_df.longitude < 10)].plot(ax=ax, marker='o', color='red', markersize=15, alpha=0.2)"
   ]
  },
  {
   "cell_type": "code",
   "execution_count": 31,
   "metadata": {
    "cell_id": "00025-661ca607-4ae9-4eb3-993f-4d12fde6a92f",
    "deepnote_app_coordinates": {
     "h": 5,
     "w": 24,
     "x": 0,
     "y": 183
    },
    "deepnote_cell_type": "code",
    "deepnote_to_be_reexecuted": false,
    "execution_millis": 2951,
    "execution_start": 1631635303660,
    "source_hash": "afb48e21",
    "tags": []
   },
   "outputs": [
    {
     "data": {
      "text/plain": [
       "<AxesSubplot:xlabel='longitude', ylabel='latitude'>"
      ]
     },
     "execution_count": 31,
     "metadata": {},
     "output_type": "execute_result"
    },
    {
     "data": {
      "image/png": "[encoded data removed]",
      "text/plain": [
       "<Figure size 432x288 with 1 Axes>"
      ]
     },
     "metadata": {
      "needs_background": "light"
     },
     "output_type": "display_data"
    }
   ],
   "source": [
    "df_ = df[((df.latitude > 10) | (df.longitude > 10))].copy()\n",
    "sns.scatterplot(data=df_, x=\"longitude\", y=\"latitude\", hue=\"status_group\")"
   ]
  },
  {
   "cell_type": "code",
   "execution_count": 32,
   "metadata": {
    "cell_id": "00026-e8de61f9-2bdf-49d7-9a26-d9c68adc5a41",
    "deepnote_app_coordinates": {
     "h": 5,
     "w": 24,
     "x": 0,
     "y": 189
    },
    "deepnote_cell_type": "code",
    "deepnote_to_be_reexecuted": false,
    "execution_millis": 2341,
    "execution_start": 1631635306617,
    "source_hash": "a53d82df",
    "tags": []
   },
   "outputs": [
    {
     "data": {
      "text/plain": [
       "<AxesSubplot:>"
      ]
     },
     "execution_count": 32,
     "metadata": {},
     "output_type": "execute_result"
    },
    {
     "data": {
      "image/png": "[encoded data removed]",
      "text/plain": [
       "<Figure size 720x720 with 8 Axes>"
      ]
     },
     "metadata": {
      "needs_background": "light"
     },
     "output_type": "display_data"
    }
   ],
   "source": [
    "df_ = df[((df.latitude > 10) | (df.longitude > 10))].copy()\n",
    "df_[\"latbin\"] = df_.latitude.map(lambda x: np.floor(-x*2))\n",
    "df_[\"lonbin\"] = df_.longitude.map(lambda x: np.floor(x*2))\n",
    "\n",
    "df_['status_group_functional'] = 0\n",
    "df_['status_group_non_functional'] = 0\n",
    "df_['status_group_functional_needs_repair'] = 0\n",
    "df_['status_group_test'] = 0\n",
    "df_.loc[df_['status_group'] == 'functional', 'status_group_functional'] = 1\n",
    "df_.loc[df_['status_group'] == 'non functional', 'status_group_non_functional'] = 1\n",
    "df_.loc[df_['status_group'] == 'functional needs repair', 'status_group_functional_needs_repair'] = 1\n",
    "df_.loc[df_['status_group'] == pd.NA, 'status_group_test'] = 1\n",
    "\n",
    "fig, axes = plt.subplots(nrows=2, ncols=2, figsize=(10, 10))\n",
    "axes = axes.flatten()\n",
    "sns.heatmap(df_[['lonbin', 'latbin', 'status_group_functional']].groupby(['lonbin', 'latbin'])['status_group_functional'].mean().unstack().T.values, ax=axes[0])\n",
    "sns.heatmap(df_[['lonbin', 'latbin', 'status_group_non_functional']].groupby(['lonbin', 'latbin'])['status_group_non_functional'].mean().unstack().T.values, ax=axes[1])\n",
    "sns.heatmap(df_[['lonbin', 'latbin', 'status_group_functional_needs_repair']].groupby(['lonbin', 'latbin'])['status_group_functional_needs_repair'].mean().unstack().T.values, ax=axes[2])\n",
    "sns.heatmap(df_[['lonbin', 'latbin', 'status_group_test']].groupby(['lonbin', 'latbin'])['status_group_test'].mean().unstack().T.values, ax=axes[3])"
   ]
  },
  {
   "cell_type": "markdown",
   "metadata": {
    "cell_id": "00029-ed037238-8495-4dc7-addf-5635b5570d49",
    "deepnote_app_coordinates": {
     "h": 2,
     "w": 24,
     "x": 0,
     "y": 195
    },
    "deepnote_cell_type": "text-cell-h3",
    "is_collapsed": false,
    "tags": []
   },
   "source": [
    "### WPT Name"
   ]
  },
  {
   "cell_type": "code",
   "execution_count": 33,
   "metadata": {
    "cell_id": "00044-874be907-ad59-454c-b9ef-34ede392d10e",
    "deepnote_app_coordinates": {
     "h": 5,
     "w": 24,
     "x": 0,
     "y": 0
    },
    "deepnote_cell_type": "code",
    "deepnote_to_be_reexecuted": false,
    "execution_millis": 39,
    "execution_start": 1631635308986,
    "source_hash": "2338258d",
    "tags": []
   },
   "outputs": [
    {
     "data": {
      "text/plain": [
       "none                      4440\n",
       "Shuleni                   2183\n",
       "Zahanati                  1034\n",
       "Msikitini                  647\n",
       "Kanisani                   390\n",
       "                          ... \n",
       "Shule Ya Msingi Bitale       1\n",
       "Isyeto                       1\n",
       "Kituo Cha Liheta             1\n",
       "Kwa Juma Lukanda             1\n",
       "Kwa Mzee Chagala             1\n",
       "Name: wpt_name, Length: 45684, dtype: int64"
      ]
     },
     "execution_count": 33,
     "metadata": {},
     "output_type": "execute_result"
    }
   ],
   "source": [
    "df['wpt_name'].value_counts()"
   ]
  },
  {
   "cell_type": "code",
   "execution_count": 34,
   "metadata": {
    "cell_id": "00030-78a95225-d0c5-44db-af81-eaf1402f1d77",
    "deepnote_app_coordinates": {
     "h": 5,
     "w": 24,
     "x": 0,
     "y": 198
    },
    "deepnote_cell_type": "code",
    "deepnote_to_be_reexecuted": false,
    "execution_millis": 563,
    "execution_start": 1631635309020,
    "source_hash": "4bf64199",
    "tags": []
   },
   "outputs": [
    {
     "data": {
      "text/plain": [
       "<AxesSubplot:xlabel='wpt_name', ylabel='count'>"
      ]
     },
     "execution_count": 34,
     "metadata": {},
     "output_type": "execute_result"
    },
    {
     "data": {
      "image/png": "[encoded data removed]",
      "text/plain": [
       "<Figure size 1440x360 with 1 Axes>"
      ]
     },
     "metadata": {
      "needs_background": "light"
     },
     "output_type": "display_data"
    }
   ],
   "source": [
    "df_ = df.copy()\n",
    "df_.loc[df_.groupby('wpt_name').wpt_name.transform('count').lt(200), 'wpt_name'] = pd.NA\n",
    "df_['wpt_name'] = df_['wpt_name'].fillna('Other')\n",
    "\n",
    "plt.figure(figsize=(20,5))\n",
    "sns.countplot(data=df_, x='wpt_name', hue='status_group')"
   ]
  },
  {
   "cell_type": "markdown",
   "metadata": {
    "cell_id": "00031-a609b4b8-8144-4f02-81f2-fec65129a318",
    "deepnote_app_coordinates": {
     "h": 2,
     "w": 24,
     "x": 0,
     "y": 204
    },
    "deepnote_cell_type": "text-cell-h3",
    "is_collapsed": false,
    "tags": []
   },
   "source": [
    "### Num Private"
   ]
  },
  {
   "cell_type": "code",
   "execution_count": 35,
   "metadata": {
    "cell_id": "00031-8362ecdc-ea87-443b-ba21-19031de9b8bb",
    "deepnote_app_coordinates": {
     "h": 5,
     "w": 24,
     "x": 0,
     "y": 213
    },
    "deepnote_cell_type": "code",
    "deepnote_to_be_reexecuted": false,
    "execution_millis": 1018,
    "execution_start": 1631635309591,
    "source_hash": "7a8dbd23",
    "tags": []
   },
   "outputs": [
    {
     "data": {
      "text/plain": [
       "<seaborn.axisgrid.FacetGrid at 0x7fc45d258fd0>"
      ]
     },
     "execution_count": 35,
     "metadata": {},
     "output_type": "execute_result"
    },
    {
     "data": {
      "text/plain": [
       "<Figure size 1440x360 with 0 Axes>"
      ]
     },
     "metadata": {},
     "output_type": "display_data"
    },
    {
     "data": {
      "image/png": "[encoded data removed]",
      "text/plain": [
       "<Figure size 511.875x360 with 1 Axes>"
      ]
     },
     "metadata": {
      "needs_background": "light"
     },
     "output_type": "display_data"
    }
   ],
   "source": [
    "plt.figure(figsize=(20,5))\n",
    "sns.displot(data=df[df.num_private != 0], x='num_private', hue='status_group', log_scale=True)"
   ]
  },
  {
   "cell_type": "code",
   "execution_count": 36,
   "metadata": {
    "cell_id": "00048-a03588a8-5cab-4db7-881a-609efc4334b6",
    "deepnote_app_coordinates": {
     "h": 5,
     "w": 24,
     "x": 0,
     "y": 0
    },
    "deepnote_cell_type": "code",
    "deepnote_to_be_reexecuted": false,
    "execution_millis": 291,
    "execution_start": 1631635310613,
    "source_hash": "370381c4",
    "tags": []
   },
   "outputs": [
    {
     "data": {
      "text/plain": [
       "<AxesSubplot:xlabel='num_private_zero', ylabel='count'>"
      ]
     },
     "execution_count": 36,
     "metadata": {},
     "output_type": "execute_result"
    },
    {
     "data": {
      "image/png": "[encoded data removed]",
      "text/plain": [
       "<Figure size 432x288 with 1 Axes>"
      ]
     },
     "metadata": {
      "needs_background": "light"
     },
     "output_type": "display_data"
    }
   ],
   "source": [
    "df_ = df.copy()\n",
    "df_['num_private_zero'] = (df.num_private == 0).astype(int)\n",
    "sns.countplot(data=df_, x='num_private_zero', hue='status_group')"
   ]
  },
  {
   "cell_type": "code",
   "execution_count": 37,
   "metadata": {
    "cell_id": "00041-b9cf20c9-f42d-4d0e-8429-59c9080d0f1e",
    "deepnote_app_coordinates": {
     "h": 5,
     "w": 24,
     "x": 0,
     "y": 219
    },
    "deepnote_cell_type": "code",
    "deepnote_to_be_reexecuted": false,
    "execution_millis": 891,
    "execution_start": 1631635310899,
    "source_hash": "e151d9c5",
    "tags": []
   },
   "outputs": [
    {
     "data": {
      "image/png": "[encoded data removed]",
      "text/plain": [
       "<Figure size 432x288 with 2 Axes>"
      ]
     },
     "metadata": {
      "needs_background": "light"
     },
     "output_type": "display_data"
    }
   ],
   "source": [
    "correlation_to_cts(df, 'num_private')"
   ]
  },
  {
   "cell_type": "markdown",
   "metadata": {
    "cell_id": "00034-f2a87b48-4f36-4fc3-9fa1-c47327cca3f2",
    "deepnote_app_coordinates": {
     "h": 2,
     "w": 24,
     "x": 0,
     "y": 231
    },
    "deepnote_cell_type": "text-cell-h3",
    "is_collapsed": false,
    "tags": []
   },
   "source": [
    "### Basin"
   ]
  },
  {
   "cell_type": "code",
   "execution_count": 38,
   "metadata": {
    "cell_id": "00035-f58cc528-5299-4c3d-b98f-4c91a3cd50c8",
    "deepnote_app_coordinates": {
     "h": 5,
     "w": 24,
     "x": 0,
     "y": 234
    },
    "deepnote_cell_type": "code",
    "deepnote_to_be_reexecuted": false,
    "execution_millis": 412,
    "execution_start": 1631635311478,
    "source_hash": "e64745f3",
    "tags": []
   },
   "outputs": [
    {
     "data": {
      "text/plain": [
       "<AxesSubplot:xlabel='basin', ylabel='count'>"
      ]
     },
     "execution_count": 38,
     "metadata": {},
     "output_type": "execute_result"
    },
    {
     "data": {
      "image/png": "[encoded data removed]",
      "text/plain": [
       "<Figure size 1440x360 with 1 Axes>"
      ]
     },
     "metadata": {
      "needs_background": "light"
     },
     "output_type": "display_data"
    }
   ],
   "source": [
    "plt.figure(figsize=(20,5))\n",
    "sns.countplot(data=df, x='basin', hue='status_group')"
   ]
  },
  {
   "cell_type": "markdown",
   "metadata": {
    "cell_id": "00046-ffe7967d-adcf-4d36-936a-12ad3575c921",
    "deepnote_app_coordinates": {
     "h": 2,
     "w": 24,
     "x": 0,
     "y": 240
    },
    "deepnote_cell_type": "text-cell-h3",
    "is_collapsed": false,
    "tags": []
   },
   "source": [
    "### Region and region code"
   ]
  },
  {
   "cell_type": "code",
   "execution_count": 39,
   "metadata": {
    "cell_id": "00048-b2ded8b9-f2cb-41cb-bfd2-eb5ef79eadeb",
    "deepnote_app_coordinates": {
     "h": 5,
     "w": 24,
     "x": 0,
     "y": 243
    },
    "deepnote_cell_type": "code",
    "deepnote_to_be_reexecuted": false,
    "execution_millis": 55,
    "execution_start": 1631635311839,
    "source_hash": "77f83918",
    "tags": []
   },
   "outputs": [
    {
     "name": "stdout",
     "output_type": "stream",
     "text": [
      "Region codes:  [11 20 21 90 18  4 17 14 60 10  3 15 19 16 80  1  6  2 12 13  5  7 99 24\n",
      "  9  8 40]\n",
      "Regions:  ['Iringa' 'Mara' 'Manyara' 'Mtwara' 'Kagera' 'Tanga' 'Shinyanga' 'Tabora'\n",
      " 'Pwani' 'Ruvuma' 'Kilimanjaro' 'Rukwa' 'Mwanza' 'Kigoma' 'Lindi' 'Dodoma'\n",
      " 'Arusha' 'Mbeya' 'Singida' 'Morogoro' 'Dar es Salaam']\n"
     ]
    },
    {
     "data": {
      "text/plain": [
       "region_code  region       \n",
       "1            Dodoma           2779\n",
       "2            Arusha           3709\n",
       "3            Kilimanjaro      5494\n",
       "4            Tanga            3145\n",
       "5            Morogoro         5038\n",
       "             Tanga              41\n",
       "6            Pwani            2032\n",
       "7            Dar es Salaam    1020\n",
       "8            Lindi             375\n",
       "9            Mtwara            499\n",
       "10           Ruvuma           3306\n",
       "11           Iringa           6599\n",
       "             Shinyanga           9\n",
       "12           Mbeya            5758\n",
       "             Mwanza              1\n",
       "13           Singida          2536\n",
       "14           Shinyanga          22\n",
       "             Tabora           2466\n",
       "15           Rukwa            2242\n",
       "16           Kigoma           3533\n",
       "17           Mwanza             72\n",
       "             Shinyanga        6262\n",
       "18           Kagera           4174\n",
       "             Lindi               9\n",
       "19           Mwanza           3824\n",
       "20           Mara             2451\n",
       "21           Manyara          1972\n",
       "24           Arusha            402\n",
       "40           Pwani               1\n",
       "60           Pwani            1298\n",
       "80           Lindi            1536\n",
       "90           Mtwara           1133\n",
       "99           Mtwara            512\n",
       "Name: id, dtype: int64"
      ]
     },
     "execution_count": 39,
     "metadata": {},
     "output_type": "execute_result"
    }
   ],
   "source": [
    "print(\"Region codes: \", df['region_code'].unique())\n",
    "print(\"Regions: \", df['region'].unique())\n",
    "df.groupby(['region_code', 'region'])['id'].count()"
   ]
  },
  {
   "cell_type": "code",
   "execution_count": 40,
   "metadata": {
    "cell_id": "00050-c45f0c99-9d66-4db2-9cd4-638cc62817bc",
    "deepnote_app_coordinates": {
     "h": 5,
     "w": 24,
     "x": 0,
     "y": 327
    },
    "deepnote_cell_type": "code",
    "deepnote_to_be_reexecuted": false,
    "execution_millis": 622,
    "execution_start": 1631635311870,
    "source_hash": "e7714ca",
    "tags": []
   },
   "outputs": [
    {
     "data": {
      "text/plain": [
       "<AxesSubplot:xlabel='region', ylabel='count'>"
      ]
     },
     "execution_count": 40,
     "metadata": {},
     "output_type": "execute_result"
    },
    {
     "data": {
      "image/png": "[encoded data removed]",
      "text/plain": [
       "<Figure size 1440x360 with 1 Axes>"
      ]
     },
     "metadata": {
      "needs_background": "light"
     },
     "output_type": "display_data"
    }
   ],
   "source": [
    "plt.figure(figsize=(20,5))\n",
    "sns.countplot(data=df, x='region', hue='status_group')"
   ]
  },
  {
   "cell_type": "markdown",
   "metadata": {
    "cell_id": "00049-a127acab-dc89-4860-9209-100f775d152d",
    "deepnote_app_coordinates": {
     "h": 5,
     "w": 24,
     "x": 0,
     "y": 249
    },
    "deepnote_cell_type": "markdown",
    "tags": []
   },
   "source": [
    "Both seems to be mosltly the same. So lets consider region only."
   ]
  },
  {
   "cell_type": "markdown",
   "metadata": {
    "cell_id": "00056-6b4e5d22-a576-46be-9c2e-5a44b15b56f6",
    "deepnote_app_coordinates": {
     "h": 2,
     "w": 24,
     "x": 0,
     "y": 0
    },
    "deepnote_cell_type": "text-cell-h3",
    "is_collapsed": false,
    "tags": []
   },
   "source": [
    "### Sub Village"
   ]
  },
  {
   "cell_type": "code",
   "execution_count": 41,
   "metadata": {
    "cell_id": "00057-694df970-0c31-4fa0-951b-e34e43ba51e9",
    "deepnote_app_coordinates": {
     "h": 5,
     "w": 24,
     "x": 0,
     "y": 0
    },
    "deepnote_cell_type": "code",
    "deepnote_to_be_reexecuted": false,
    "execution_millis": 32,
    "execution_start": 1631635312513,
    "source_hash": "a0c3ff36",
    "tags": []
   },
   "outputs": [
    {
     "data": {
      "text/plain": [
       "Shuleni       646\n",
       "Majengo       631\n",
       "Madukani      629\n",
       "Kati          467\n",
       "Mtakuja       322\n",
       "             ... \n",
       "Kalipinde       1\n",
       "Isimikine       1\n",
       "Bukiliguru      1\n",
       "Busulilo        1\n",
       "Kosoro          1\n",
       "Name: subvillage, Length: 21425, dtype: int64"
      ]
     },
     "execution_count": 41,
     "metadata": {},
     "output_type": "execute_result"
    }
   ],
   "source": [
    "df['subvillage'].value_counts()"
   ]
  },
  {
   "cell_type": "markdown",
   "metadata": {
    "cell_id": "00050-6097ff69-9138-4ede-98a5-7f0dc0f3a434",
    "deepnote_app_coordinates": {
     "h": 2,
     "w": 24,
     "x": 0,
     "y": 414
    },
    "deepnote_cell_type": "text-cell-h3",
    "is_collapsed": false,
    "tags": []
   },
   "source": [
    "### District code"
   ]
  },
  {
   "cell_type": "code",
   "execution_count": 42,
   "metadata": {
    "cell_id": "00051-edbe91f1-c45b-4051-a9f9-103732195714",
    "deepnote_app_coordinates": {
     "h": 5,
     "w": 24,
     "x": 0,
     "y": 417
    },
    "deepnote_cell_type": "code",
    "deepnote_to_be_reexecuted": false,
    "execution_millis": 705,
    "execution_start": 1631635312528,
    "source_hash": "4bc2a3b1",
    "tags": []
   },
   "outputs": [
    {
     "data": {
      "text/plain": [
       "<AxesSubplot:xlabel='district_code', ylabel='count'>"
      ]
     },
     "execution_count": 42,
     "metadata": {},
     "output_type": "execute_result"
    },
    {
     "data": {
      "image/png": "[encoded data removed]",
      "text/plain": [
       "<Figure size 1440x360 with 1 Axes>"
      ]
     },
     "metadata": {
      "needs_background": "light"
     },
     "output_type": "display_data"
    }
   ],
   "source": [
    "plt.figure(figsize=(20,5))\n",
    "sns.countplot(data=df, x='district_code', hue='status_group')"
   ]
  },
  {
   "cell_type": "markdown",
   "metadata": {
    "cell_id": "00052-8f976046-19e4-4edd-99b6-ee5d7b8ff18b",
    "deepnote_app_coordinates": {
     "h": 2,
     "w": 24,
     "x": 0,
     "y": 465
    },
    "deepnote_cell_type": "text-cell-h3",
    "is_collapsed": false,
    "tags": []
   },
   "source": [
    "### LGA and Ward"
   ]
  },
  {
   "cell_type": "code",
   "execution_count": 43,
   "metadata": {
    "cell_id": "00053-0595432d-5e42-459b-b144-5adf11ea94d2",
    "deepnote_app_coordinates": {
     "h": 5,
     "w": 24,
     "x": 0,
     "y": 468
    },
    "deepnote_cell_type": "code",
    "deepnote_to_be_reexecuted": false,
    "execution_millis": 23,
    "execution_start": 1631635313223,
    "source_hash": "b1f5904",
    "tags": []
   },
   "outputs": [
    {
     "name": "stdout",
     "output_type": "stream",
     "text": [
      "Ward:  2098\n",
      "LGA:  125\n"
     ]
    }
   ],
   "source": [
    "print(\"Ward: \", len(df['ward'].unique()))\n",
    "print(\"LGA: \", len(df['lga'].unique()))"
   ]
  },
  {
   "cell_type": "code",
   "execution_count": 44,
   "metadata": {
    "cell_id": "00054-bf529b81-955c-4020-a83a-b413ec4704ed",
    "deepnote_app_coordinates": {
     "h": 5,
     "w": 24,
     "x": 0,
     "y": 474
    },
    "deepnote_cell_type": "code",
    "deepnote_to_be_reexecuted": false,
    "execution_millis": 24,
    "execution_start": 1631635313246,
    "source_hash": "9c255ce7",
    "tags": []
   },
   "outputs": [
    {
     "data": {
      "text/plain": [
       "Igosi              386\n",
       "Imalinyi           318\n",
       "Siha Kati          297\n",
       "Mdandu             292\n",
       "Nduruma            261\n",
       "                  ... \n",
       "Rasbura              1\n",
       "Matarawe             1\n",
       "Themi                1\n",
       "Uwanja wa Ndege      1\n",
       "Mwalugulu            1\n",
       "Name: ward, Length: 2098, dtype: int64"
      ]
     },
     "execution_count": 44,
     "metadata": {},
     "output_type": "execute_result"
    }
   ],
   "source": [
    "df['ward'].value_counts()"
   ]
  },
  {
   "cell_type": "code",
   "execution_count": 45,
   "metadata": {
    "cell_id": "00058-89162483-9213-4e8b-82a5-8fab2fe99e82",
    "deepnote_app_coordinates": {
     "h": 5,
     "w": 24,
     "x": 0,
     "y": 0
    },
    "deepnote_cell_type": "code",
    "deepnote_to_be_reexecuted": false,
    "execution_millis": 52,
    "execution_start": 1631635313266,
    "source_hash": "e1d27ef2",
    "tags": []
   },
   "outputs": [
    {
     "data": {
      "text/plain": [
       "Njombe          3128\n",
       "Moshi Rural     1566\n",
       "Arusha Rural    1521\n",
       "Bariadi         1485\n",
       "Rungwe          1381\n",
       "                ... \n",
       "Songea Urban     103\n",
       "Kigoma Urban      95\n",
       "Arusha Urban      82\n",
       "Lindi Urban       24\n",
       "Nyamagana          2\n",
       "Name: lga, Length: 125, dtype: int64"
      ]
     },
     "execution_count": 45,
     "metadata": {},
     "output_type": "execute_result"
    }
   ],
   "source": [
    "df['lga'].value_counts()"
   ]
  },
  {
   "cell_type": "markdown",
   "metadata": {
    "cell_id": "00052-1e5fea1a-a6af-425c-98ab-1bf9d5795426",
    "deepnote_app_coordinates": {
     "h": 2,
     "w": 24,
     "x": 0,
     "y": 423
    },
    "deepnote_cell_type": "text-cell-h3",
    "is_collapsed": false,
    "tags": []
   },
   "source": [
    "### Public meeting"
   ]
  },
  {
   "cell_type": "code",
   "execution_count": 46,
   "metadata": {
    "cell_id": "00053-e043b861-4a16-47ab-b88e-03d59d2f14bf",
    "deepnote_app_coordinates": {
     "h": 5,
     "w": 24,
     "x": 0,
     "y": 426
    },
    "deepnote_cell_type": "code",
    "deepnote_to_be_reexecuted": false,
    "execution_millis": 392,
    "execution_start": 1631635313311,
    "source_hash": "413c63e0",
    "tags": []
   },
   "outputs": [
    {
     "data": {
      "text/plain": [
       "<AxesSubplot:xlabel='public_meeting', ylabel='count'>"
      ]
     },
     "execution_count": 46,
     "metadata": {},
     "output_type": "execute_result"
    },
    {
     "data": {
      "image/png": "[encoded data removed]",
      "text/plain": [
       "<Figure size 1440x360 with 1 Axes>"
      ]
     },
     "metadata": {
      "needs_background": "light"
     },
     "output_type": "display_data"
    }
   ],
   "source": [
    "plt.figure(figsize=(20,5))\n",
    "sns.countplot(data=df, x='public_meeting', hue='status_group')"
   ]
  },
  {
   "cell_type": "markdown",
   "metadata": {
    "cell_id": "00054-f0587cfa-6973-4f0d-adfc-115741cff57d",
    "deepnote_app_coordinates": {
     "h": 2,
     "w": 24,
     "x": 0,
     "y": 432
    },
    "deepnote_cell_type": "text-cell-h3",
    "is_collapsed": false,
    "tags": []
   },
   "source": [
    "### Recorded By"
   ]
  },
  {
   "cell_type": "code",
   "execution_count": 47,
   "metadata": {
    "cell_id": "00055-b046c0d9-18fa-4756-8e57-542a574e247d",
    "deepnote_app_coordinates": {
     "h": 5,
     "w": 24,
     "x": 0,
     "y": 435
    },
    "deepnote_cell_type": "code",
    "deepnote_to_be_reexecuted": false,
    "execution_millis": 16,
    "execution_start": 1631635313706,
    "source_hash": "43a3c8ce",
    "tags": []
   },
   "outputs": [
    {
     "name": "stdout",
     "output_type": "stream",
     "text": [
      "Recorded By:  ['GeoData Consultants Ltd']\n"
     ]
    }
   ],
   "source": [
    "print(\"Recorded By: \", df['recorded_by'].unique())"
   ]
  },
  {
   "cell_type": "markdown",
   "metadata": {
    "cell_id": "00056-c7f245ac-b870-4047-8613-f1431d7819ac",
    "deepnote_app_coordinates": {
     "h": 2,
     "w": 24,
     "x": 0,
     "y": 456
    },
    "deepnote_cell_type": "text-cell-h3",
    "is_collapsed": false,
    "tags": []
   },
   "source": [
    "### Permit"
   ]
  },
  {
   "cell_type": "code",
   "execution_count": 48,
   "metadata": {
    "cell_id": "00057-162faf8d-b33e-488e-856e-b7c8fc0c0502",
    "deepnote_app_coordinates": {
     "h": 5,
     "w": 24,
     "x": 0,
     "y": 459
    },
    "deepnote_cell_type": "code",
    "deepnote_to_be_reexecuted": false,
    "execution_millis": 412,
    "execution_start": 1631635313718,
    "source_hash": "9a5d2e42",
    "tags": []
   },
   "outputs": [
    {
     "data": {
      "text/plain": [
       "<AxesSubplot:xlabel='permit', ylabel='count'>"
      ]
     },
     "execution_count": 48,
     "metadata": {},
     "output_type": "execute_result"
    },
    {
     "data": {
      "image/png": "[encoded data removed]",
      "text/plain": [
       "<Figure size 1440x360 with 1 Axes>"
      ]
     },
     "metadata": {
      "needs_background": "light"
     },
     "output_type": "display_data"
    }
   ],
   "source": [
    "plt.figure(figsize=(20,5))\n",
    "sns.countplot(data=df, x='permit', hue='status_group')"
   ]
  },
  {
   "cell_type": "markdown",
   "metadata": {
    "cell_id": "00056-d269ca9f-0db0-4cdc-b22f-3bac211761a0",
    "deepnote_app_coordinates": {
     "h": 2,
     "w": 24,
     "x": 0,
     "y": 441
    },
    "deepnote_cell_type": "text-cell-h3",
    "is_collapsed": false,
    "tags": []
   },
   "source": [
    "### Scheme Management and Scheme Name"
   ]
  },
  {
   "cell_type": "code",
   "execution_count": 49,
   "metadata": {
    "cell_id": "00057-38da319e-a041-4e6d-9c4b-e00f51723713",
    "deepnote_app_coordinates": {
     "h": 5,
     "w": 24,
     "x": 0,
     "y": 444
    },
    "deepnote_cell_type": "code",
    "deepnote_to_be_reexecuted": false,
    "execution_millis": 23,
    "execution_start": 1631635314136,
    "source_hash": "19201882",
    "tags": []
   },
   "outputs": [
    {
     "name": "stdout",
     "output_type": "stream",
     "text": [
      "Scheme Name:  ['Roman' nan 'Nyumba ya mungu pipe scheme' ... 'Grumeti' 'BL Vetenary'\n",
      " 'MIGA']\n",
      "Scheme Management:  ['VWC' 'Other' nan 'Private operator' 'WUG' 'Water Board' 'WUA'\n",
      " 'Water authority' 'Company' 'Parastatal' 'Trust' 'SWC' 'None']\n"
     ]
    },
    {
     "data": {
      "text/plain": [
       "scheme_management\n",
       "Company              1341\n",
       "None                    1\n",
       "Other                 996\n",
       "Parastatal           2124\n",
       "Private operator     1326\n",
       "SWC                   123\n",
       "Trust                  92\n",
       "VWC                 45917\n",
       "WUA                  3551\n",
       "WUG                  6496\n",
       "Water Board          3462\n",
       "Water authority      3975\n",
       "Name: id, dtype: int64"
      ]
     },
     "execution_count": 49,
     "metadata": {},
     "output_type": "execute_result"
    }
   ],
   "source": [
    "print(\"Scheme Name: \", df['scheme_name'].unique())\n",
    "print(\"Scheme Management: \", df['scheme_management'].unique())\n",
    "df.groupby(['scheme_management'])['id'].count()"
   ]
  },
  {
   "cell_type": "code",
   "execution_count": 50,
   "metadata": {
    "cell_id": "00058-8667ce76-2fb2-4bcf-81e4-fe1c348cea51",
    "deepnote_app_coordinates": {
     "h": 5,
     "w": 24,
     "x": 0,
     "y": 450
    },
    "deepnote_cell_type": "code",
    "deepnote_to_be_reexecuted": false,
    "execution_millis": 474,
    "execution_start": 1631635314172,
    "source_hash": "f1c10581",
    "tags": []
   },
   "outputs": [
    {
     "data": {
      "text/plain": [
       "<AxesSubplot:xlabel='scheme_management', ylabel='count'>"
      ]
     },
     "execution_count": 50,
     "metadata": {},
     "output_type": "execute_result"
    },
    {
     "data": {
      "image/png": "[encoded data removed]",
      "text/plain": [
       "<Figure size 1440x360 with 1 Axes>"
      ]
     },
     "metadata": {
      "needs_background": "light"
     },
     "output_type": "display_data"
    }
   ],
   "source": [
    "plt.figure(figsize=(20,5))\n",
    "sns.countplot(data=df, x='scheme_management', hue='status_group')"
   ]
  },
  {
   "cell_type": "markdown",
   "metadata": {
    "cell_id": "00050-956c9dd7-0d3e-459e-9279-cefb6461d27f",
    "deepnote_app_coordinates": {
     "h": 2,
     "w": 24,
     "x": 0,
     "y": 255
    },
    "deepnote_cell_type": "text-cell-h3",
    "is_collapsed": false,
    "tags": []
   },
   "source": [
    "### Population"
   ]
  },
  {
   "cell_type": "code",
   "execution_count": 51,
   "metadata": {
    "cell_id": "00051-3cd39115-7218-4fcd-88d7-c2455a265107",
    "deepnote_app_coordinates": {
     "h": 5,
     "w": 24,
     "x": 0,
     "y": 258
    },
    "deepnote_cell_type": "code",
    "deepnote_to_be_reexecuted": false,
    "execution_millis": 440,
    "execution_start": 1631635314640,
    "source_hash": "e7570b7f",
    "tags": []
   },
   "outputs": [
    {
     "data": {
      "image/png": "[encoded data removed]",
      "text/plain": [
       "<Figure size 432x288 with 2 Axes>"
      ]
     },
     "metadata": {
      "needs_background": "light"
     },
     "output_type": "display_data"
    }
   ],
   "source": [
    "correlation_to_cts(df, 'population')"
   ]
  },
  {
   "cell_type": "code",
   "execution_count": 52,
   "metadata": {
    "cell_id": "00052-13404898-e17b-4e51-b3ca-843c9e5dcc24",
    "deepnote_app_coordinates": {
     "h": 5,
     "w": 24,
     "x": 0,
     "y": 264
    },
    "deepnote_cell_type": "code",
    "deepnote_to_be_reexecuted": false,
    "execution_millis": 1658,
    "execution_start": 1631635315047,
    "source_hash": "9f23eaa4",
    "tags": []
   },
   "outputs": [
    {
     "data": {
      "text/plain": [
       "<seaborn.axisgrid.FacetGrid at 0x7fc45c725280>"
      ]
     },
     "execution_count": 52,
     "metadata": {},
     "output_type": "execute_result"
    },
    {
     "data": {
      "image/png": "[encoded data removed]",
      "text/plain": [
       "<Figure size 511.875x360 with 1 Axes>"
      ]
     },
     "metadata": {
      "needs_background": "light"
     },
     "output_type": "display_data"
    }
   ],
   "source": [
    "sns.displot(data=df[df['population'] > 10], x='population', log_scale=True, hue='status_group')"
   ]
  },
  {
   "cell_type": "markdown",
   "metadata": {
    "cell_id": "00053-8e59505a-8a25-4921-9287-aec10b2900cd",
    "deepnote_app_coordinates": {
     "h": 2,
     "w": 24,
     "x": 0,
     "y": 270
    },
    "deepnote_cell_type": "text-cell-h3",
    "is_collapsed": false,
    "tags": []
   },
   "source": [
    "### Construction year"
   ]
  },
  {
   "cell_type": "code",
   "execution_count": 53,
   "metadata": {
    "cell_id": "00056-2a9d1cff-d034-4506-8570-463773bc2133",
    "deepnote_app_coordinates": {
     "h": 5,
     "w": 24,
     "x": 0,
     "y": 348
    },
    "deepnote_cell_type": "code",
    "deepnote_to_be_reexecuted": false,
    "execution_millis": 52,
    "execution_start": 1631635316714,
    "source_hash": "9f96ff94",
    "tags": []
   },
   "outputs": [],
   "source": [
    "df_ = df.copy()\n",
    "df_['construction_year'] = df_['construction_year'].map(lambda y: 1970 if 0 < y < 1970 else y)"
   ]
  },
  {
   "cell_type": "code",
   "execution_count": 54,
   "metadata": {
    "cell_id": "00054-f272324a-7d87-494f-b181-5ef875ad8d1b",
    "deepnote_app_coordinates": {
     "h": 5,
     "w": 24,
     "x": 0,
     "y": 273
    },
    "deepnote_cell_type": "code",
    "deepnote_to_be_reexecuted": false,
    "execution_millis": 1148,
    "execution_start": 1631635316770,
    "source_hash": "f9bce33a",
    "tags": []
   },
   "outputs": [
    {
     "data": {
      "text/plain": [
       "<AxesSubplot:xlabel='construction_year', ylabel='count'>"
      ]
     },
     "execution_count": 54,
     "metadata": {},
     "output_type": "execute_result"
    },
    {
     "data": {
      "image/png": "[encoded data removed]",
      "text/plain": [
       "<Figure size 1656x360 with 1 Axes>"
      ]
     },
     "metadata": {
      "needs_background": "light"
     },
     "output_type": "display_data"
    }
   ],
   "source": [
    "plt.figure(figsize=(23,5))\n",
    "sns.countplot(data=df_[df_['construction_year'] != 0], x='construction_year', hue='status_group')"
   ]
  },
  {
   "cell_type": "markdown",
   "metadata": {
    "cell_id": "00056-61162694-432b-4a42-809a-3312e1b1c3d3",
    "deepnote_app_coordinates": {
     "h": 2,
     "w": 24,
     "x": 0,
     "y": 399
    },
    "deepnote_cell_type": "text-cell-h3",
    "is_collapsed": false,
    "tags": []
   },
   "source": [
    "### Extraction type, Extraction type group and Extraction type class"
   ]
  },
  {
   "cell_type": "code",
   "execution_count": 55,
   "metadata": {
    "cell_id": "00057-58fa8a02-e9c2-4142-abde-62c25c833aea",
    "deepnote_app_coordinates": {
     "h": 5,
     "w": 24,
     "x": 0,
     "y": 402
    },
    "deepnote_cell_type": "code",
    "deepnote_to_be_reexecuted": false,
    "execution_millis": 53,
    "execution_start": 1631635317925,
    "source_hash": "f60d45f0",
    "tags": []
   },
   "outputs": [
    {
     "name": "stdout",
     "output_type": "stream",
     "text": [
      "Extraction types:  ['gravity' 'submersible' 'swn 80' 'nira/tanira' 'india mark ii' 'other'\n",
      " 'ksb' 'mono' 'windmill' 'afridev' 'other - rope pump' 'india mark iii'\n",
      " 'other - swn 81' 'other - play pump' 'cemo' 'climax' 'walimi'\n",
      " 'other - mkulima/shinyanga']\n",
      "Extraction type groups:  ['gravity' 'submersible' 'swn 80' 'nira/tanira' 'india mark ii' 'other'\n",
      " 'mono' 'wind-powered' 'afridev' 'rope pump' 'india mark iii'\n",
      " 'other handpump' 'other motorpump']\n",
      "Extraction type classes:  ['gravity' 'submersible' 'handpump' 'other' 'motorpump' 'wind-powered'\n",
      " 'rope pump']\n"
     ]
    },
    {
     "data": {
      "text/plain": [
       "extraction_type_class  extraction_type_group  extraction_type          \n",
       "gravity                gravity                gravity                      33263\n",
       "handpump               afridev                afridev                       2208\n",
       "                       india mark ii          india mark ii                 3029\n",
       "                       india mark iii         india mark iii                 135\n",
       "                       nira/tanira            nira/tanira                  10205\n",
       "                       other handpump         other - mkulima/shinyanga        2\n",
       "                                              other - play pump              101\n",
       "                                              other - swn 81                 284\n",
       "                                              walimi                          60\n",
       "                       swn 80                 swn 80                        4588\n",
       "motorpump              mono                   mono                          3628\n",
       "                       other motorpump        cemo                           108\n",
       "                                              climax                          41\n",
       "other                  other                  other                         8102\n",
       "rope pump              rope pump              other - rope pump              572\n",
       "submersible            submersible            ksb                           1790\n",
       "                                              submersible                   5982\n",
       "wind-powered           wind-powered           windmill                       152\n",
       "Name: id, dtype: int64"
      ]
     },
     "execution_count": 55,
     "metadata": {},
     "output_type": "execute_result"
    }
   ],
   "source": [
    "print(\"Extraction types: \", df['extraction_type'].unique())\n",
    "print(\"Extraction type groups: \", df['extraction_type_group'].unique())\n",
    "print(\"Extraction type classes: \", df['extraction_type_class'].unique())\n",
    "df.groupby(['extraction_type_class', 'extraction_type_group', 'extraction_type'])['id'].count()"
   ]
  },
  {
   "cell_type": "code",
   "execution_count": 56,
   "metadata": {
    "cell_id": "00058-867287e2-0e80-4aa5-a000-2509d3d2d3df",
    "deepnote_app_coordinates": {
     "h": 5,
     "w": 24,
     "x": 0,
     "y": 408
    },
    "deepnote_cell_type": "code",
    "deepnote_to_be_reexecuted": false,
    "execution_millis": 658,
    "execution_start": 1631635317973,
    "source_hash": "104fbc",
    "tags": []
   },
   "outputs": [
    {
     "data": {
      "text/plain": [
       "<AxesSubplot:xlabel='extraction_type', ylabel='count'>"
      ]
     },
     "execution_count": 56,
     "metadata": {},
     "output_type": "execute_result"
    },
    {
     "data": {
      "image/png": "[encoded data removed]",
      "text/plain": [
       "<Figure size 1440x360 with 1 Axes>"
      ]
     },
     "metadata": {
      "needs_background": "light"
     },
     "output_type": "display_data"
    }
   ],
   "source": [
    "plt.figure(figsize=(20,5))\n",
    "sns.countplot(data=df, x='extraction_type', hue='status_group')"
   ]
  },
  {
   "cell_type": "markdown",
   "metadata": {
    "cell_id": "00056-f20eb73a-c49b-4728-8f6b-9cf3583b04db",
    "deepnote_app_coordinates": {
     "h": 2,
     "w": 24,
     "x": 0,
     "y": 384
    },
    "deepnote_cell_type": "text-cell-h3",
    "is_collapsed": false,
    "tags": []
   },
   "source": [
    "### Management and management group"
   ]
  },
  {
   "cell_type": "code",
   "execution_count": 57,
   "metadata": {
    "cell_id": "00057-9d8bede4-42bc-4956-b8b3-76c45f3f8725",
    "deepnote_app_coordinates": {
     "h": 5,
     "w": 24,
     "x": 0,
     "y": 387
    },
    "deepnote_cell_type": "code",
    "deepnote_to_be_reexecuted": false,
    "execution_millis": 69,
    "execution_start": 1631635318651,
    "source_hash": "e879c6c4",
    "tags": []
   },
   "outputs": [
    {
     "name": "stdout",
     "output_type": "stream",
     "text": [
      "Managements:  ['vwc' 'wug' 'other' 'private operator' 'water board' 'wua' 'company'\n",
      " 'water authority' 'parastatal' 'unknown' 'other - school' 'trust']\n",
      "Management Groups:  ['user-group' 'other' 'commercial' 'parastatal' 'unknown']\n"
     ]
    },
    {
     "data": {
      "text/plain": [
       "management_group  management      \n",
       "commercial        company               859\n",
       "                  private operator     2504\n",
       "                  trust                 105\n",
       "                  water authority      1123\n",
       "other             other                1083\n",
       "                  other - school        126\n",
       "parastatal        parastatal           2229\n",
       "unknown           unknown               683\n",
       "user-group        vwc                 50624\n",
       "                  water board          3688\n",
       "                  wua                  3118\n",
       "                  wug                  8108\n",
       "Name: id, dtype: int64"
      ]
     },
     "execution_count": 57,
     "metadata": {},
     "output_type": "execute_result"
    }
   ],
   "source": [
    "print(\"Managements: \", df['management'].unique())\n",
    "print(\"Management Groups: \", df['management_group'].unique())\n",
    "df.groupby(['management_group', 'management'])['id'].count()"
   ]
  },
  {
   "cell_type": "code",
   "execution_count": 58,
   "metadata": {
    "cell_id": "00058-db6bd0e1-64d9-4bf6-9828-ba655a52dd02",
    "deepnote_app_coordinates": {
     "h": 5,
     "w": 24,
     "x": 0,
     "y": 393
    },
    "deepnote_cell_type": "code",
    "deepnote_to_be_reexecuted": false,
    "execution_millis": 672,
    "execution_start": 1631635318714,
    "source_hash": "ab564f5c",
    "tags": []
   },
   "outputs": [
    {
     "data": {
      "text/plain": [
       "<AxesSubplot:xlabel='management', ylabel='count'>"
      ]
     },
     "execution_count": 58,
     "metadata": {},
     "output_type": "execute_result"
    },
    {
     "data": {
      "image/png": "[encoded data removed]",
      "text/plain": [
       "<Figure size 1440x360 with 1 Axes>"
      ]
     },
     "metadata": {
      "needs_background": "light"
     },
     "output_type": "display_data"
    }
   ],
   "source": [
    "plt.figure(figsize=(20,5))\n",
    "sns.countplot(data=df, x='management', hue='status_group')"
   ]
  },
  {
   "cell_type": "markdown",
   "metadata": {
    "cell_id": "00056-2e9766b2-47b2-49eb-8d40-bd02fa1bd435",
    "deepnote_app_coordinates": {
     "h": 2,
     "w": 24,
     "x": 0,
     "y": 369
    },
    "deepnote_cell_type": "text-cell-h3",
    "is_collapsed": false,
    "tags": []
   },
   "source": [
    "### Payment and payment type"
   ]
  },
  {
   "cell_type": "code",
   "execution_count": 59,
   "metadata": {
    "cell_id": "00057-089e03ce-8bc4-4dc9-bd92-643ef890d9fa",
    "deepnote_app_coordinates": {
     "h": 5,
     "w": 24,
     "x": 0,
     "y": 372
    },
    "deepnote_cell_type": "code",
    "deepnote_to_be_reexecuted": false,
    "execution_millis": 55,
    "execution_start": 1631635319386,
    "source_hash": "767dd2dd",
    "tags": []
   },
   "outputs": [
    {
     "name": "stdout",
     "output_type": "stream",
     "text": [
      "Payments:  ['pay annually' 'never pay' 'pay per bucket' 'unknown'\n",
      " 'pay when scheme fails' 'other' 'pay monthly']\n",
      "Payment Types:  ['annually' 'never pay' 'per bucket' 'unknown' 'on failure' 'other'\n",
      " 'monthly']\n"
     ]
    },
    {
     "data": {
      "text/plain": [
       "payment_type  payment              \n",
       "annually      pay annually              4570\n",
       "monthly       pay monthly              10397\n",
       "never pay     never pay                31712\n",
       "on failure    pay when scheme fails     4842\n",
       "other         other                     1314\n",
       "per bucket    pay per bucket           11266\n",
       "unknown       unknown                  10149\n",
       "Name: id, dtype: int64"
      ]
     },
     "execution_count": 59,
     "metadata": {},
     "output_type": "execute_result"
    }
   ],
   "source": [
    "print(\"Payments: \", df['payment'].unique())\n",
    "print(\"Payment Types: \", df['payment_type'].unique())\n",
    "df.groupby(['payment_type', 'payment'])['id'].count()"
   ]
  },
  {
   "cell_type": "code",
   "execution_count": 60,
   "metadata": {
    "cell_id": "00058-a7380e66-e4e4-41d8-8c07-e1a59d4900f6",
    "deepnote_app_coordinates": {
     "h": 5,
     "w": 24,
     "x": 0,
     "y": 378
    },
    "deepnote_cell_type": "code",
    "deepnote_to_be_reexecuted": false,
    "execution_millis": 609,
    "execution_start": 1631635319430,
    "source_hash": "d805e9f3",
    "tags": []
   },
   "outputs": [
    {
     "data": {
      "text/plain": [
       "<AxesSubplot:xlabel='payment', ylabel='count'>"
      ]
     },
     "execution_count": 60,
     "metadata": {},
     "output_type": "execute_result"
    },
    {
     "data": {
      "image/png": "[encoded data removed]",
      "text/plain": [
       "<Figure size 1440x360 with 1 Axes>"
      ]
     },
     "metadata": {
      "needs_background": "light"
     },
     "output_type": "display_data"
    }
   ],
   "source": [
    "plt.figure(figsize=(20,5))\n",
    "sns.countplot(data=df, x='payment', hue='status_group')"
   ]
  },
  {
   "cell_type": "markdown",
   "metadata": {
    "cell_id": "00056-cf8a52c8-544f-4287-a53f-28fa099ded81",
    "deepnote_app_coordinates": {
     "h": 2,
     "w": 24,
     "x": 0,
     "y": 354
    },
    "deepnote_cell_type": "text-cell-h3",
    "is_collapsed": false,
    "tags": []
   },
   "source": [
    "### Water Quality and Quality Group"
   ]
  },
  {
   "cell_type": "code",
   "execution_count": 61,
   "metadata": {
    "cell_id": "00057-7ae39e45-e51c-4047-af0d-7305715cf00b",
    "deepnote_app_coordinates": {
     "h": 5,
     "w": 24,
     "x": 0,
     "y": 357
    },
    "deepnote_cell_type": "code",
    "deepnote_to_be_reexecuted": false,
    "execution_millis": 69,
    "execution_start": 1631635320039,
    "source_hash": "f183b041",
    "tags": []
   },
   "outputs": [
    {
     "name": "stdout",
     "output_type": "stream",
     "text": [
      "Water Qualities:  ['soft' 'salty' 'milky' 'unknown' 'fluoride' 'coloured' 'salty abandoned'\n",
      " 'fluoride abandoned']\n",
      "Quality Groups:  ['good' 'salty' 'milky' 'unknown' 'fluoride' 'colored']\n"
     ]
    },
    {
     "data": {
      "text/plain": [
       "quality_group  water_quality     \n",
       "colored        coloured                623\n",
       "fluoride       fluoride                244\n",
       "               fluoride abandoned       23\n",
       "good           soft                  63505\n",
       "milky          milky                  1005\n",
       "salty          salty                  6082\n",
       "               salty abandoned         423\n",
       "unknown        unknown                2345\n",
       "Name: id, dtype: int64"
      ]
     },
     "execution_count": 61,
     "metadata": {},
     "output_type": "execute_result"
    }
   ],
   "source": [
    "print(\"Water Qualities: \", df['water_quality'].unique())\n",
    "print(\"Quality Groups: \", df['quality_group'].unique())\n",
    "df.groupby(['quality_group', 'water_quality'])['id'].count()"
   ]
  },
  {
   "cell_type": "code",
   "execution_count": 62,
   "metadata": {
    "cell_id": "00058-9e645943-a9ad-44b6-bf8e-bfb127044a22",
    "deepnote_app_coordinates": {
     "h": 5,
     "w": 24,
     "x": 0,
     "y": 363
    },
    "deepnote_cell_type": "code",
    "deepnote_to_be_reexecuted": false,
    "execution_millis": 567,
    "execution_start": 1631635320103,
    "source_hash": "6c677989",
    "tags": []
   },
   "outputs": [
    {
     "data": {
      "text/plain": [
       "<AxesSubplot:xlabel='water_quality', ylabel='count'>"
      ]
     },
     "execution_count": 62,
     "metadata": {},
     "output_type": "execute_result"
    },
    {
     "data": {
      "image/png": "[encoded data removed]",
      "text/plain": [
       "<Figure size 1440x360 with 1 Axes>"
      ]
     },
     "metadata": {
      "needs_background": "light"
     },
     "output_type": "display_data"
    }
   ],
   "source": [
    "plt.figure(figsize=(20,5))\n",
    "sns.countplot(data=df, x='water_quality', hue='status_group')"
   ]
  },
  {
   "cell_type": "markdown",
   "metadata": {
    "cell_id": "00057-65ccefa3-47ee-4174-81d7-0d8e39898941",
    "deepnote_app_coordinates": {
     "h": 2,
     "w": 24,
     "x": 0,
     "y": 339
    },
    "deepnote_cell_type": "text-cell-h3",
    "is_collapsed": false,
    "tags": []
   },
   "source": [
    "### Quantity and Quantity group"
   ]
  },
  {
   "cell_type": "code",
   "execution_count": 63,
   "metadata": {
    "cell_id": "00058-cec81af7-4f0b-4e70-bd5f-5e64f9b11a9a",
    "deepnote_app_coordinates": {
     "h": 5,
     "w": 24,
     "x": 0,
     "y": 333
    },
    "deepnote_cell_type": "code",
    "deepnote_to_be_reexecuted": false,
    "execution_millis": 57,
    "execution_start": 1631635320673,
    "source_hash": "95e515e2",
    "tags": []
   },
   "outputs": [
    {
     "name": "stdout",
     "output_type": "stream",
     "text": [
      "Quantities:  ['enough' 'insufficient' 'dry' 'seasonal' 'unknown']\n",
      "Quantity Groups:  ['enough' 'insufficient' 'dry' 'seasonal' 'unknown']\n"
     ]
    },
    {
     "data": {
      "text/plain": [
       "quantity_group  quantity    \n",
       "dry             dry              7782\n",
       "enough          enough          41522\n",
       "insufficient    insufficient    18896\n",
       "seasonal        seasonal         5075\n",
       "unknown         unknown           975\n",
       "Name: id, dtype: int64"
      ]
     },
     "execution_count": 63,
     "metadata": {},
     "output_type": "execute_result"
    }
   ],
   "source": [
    "print(\"Quantities: \", df['quantity'].unique())\n",
    "print(\"Quantity Groups: \", df['quantity_group'].unique())\n",
    "df.groupby(['quantity_group', 'quantity'])['id'].count()"
   ]
  },
  {
   "cell_type": "code",
   "execution_count": 64,
   "metadata": {
    "cell_id": "00059-1b4f2ad0-86fd-4a20-8f07-3255f2651d4d",
    "deepnote_app_coordinates": {
     "h": 5,
     "w": 24,
     "x": 0,
     "y": 342
    },
    "deepnote_cell_type": "code",
    "deepnote_to_be_reexecuted": false,
    "execution_millis": 528,
    "execution_start": 1631635320726,
    "source_hash": "5ffa6b2c",
    "tags": []
   },
   "outputs": [
    {
     "data": {
      "text/plain": [
       "<AxesSubplot:xlabel='quantity', ylabel='count'>"
      ]
     },
     "execution_count": 64,
     "metadata": {},
     "output_type": "execute_result"
    },
    {
     "data": {
      "image/png": "[encoded data removed]",
      "text/plain": [
       "<Figure size 1440x360 with 1 Axes>"
      ]
     },
     "metadata": {
      "needs_background": "light"
     },
     "output_type": "display_data"
    }
   ],
   "source": [
    "plt.figure(figsize=(20,5))\n",
    "sns.countplot(data=df, x='quantity', hue='status_group')"
   ]
  },
  {
   "cell_type": "markdown",
   "metadata": {
    "cell_id": "00057-21c283bc-6a72-4208-86ca-19efcd1c1cce",
    "deepnote_app_coordinates": {
     "h": 2,
     "w": 24,
     "x": 0,
     "y": 312
    },
    "deepnote_cell_type": "text-cell-h3",
    "is_collapsed": false,
    "tags": []
   },
   "source": [
    "### Source, source type and source class"
   ]
  },
  {
   "cell_type": "code",
   "execution_count": 65,
   "metadata": {
    "cell_id": "00058-cf4f432f-0b8d-466f-8c1b-ea6f926cf1e8",
    "deepnote_app_coordinates": {
     "h": 5,
     "w": 24,
     "x": 0,
     "y": 315
    },
    "deepnote_cell_type": "code",
    "deepnote_to_be_reexecuted": false,
    "execution_millis": 67,
    "execution_start": 1631635321271,
    "source_hash": "1b4b35cd",
    "tags": []
   },
   "outputs": [
    {
     "name": "stdout",
     "output_type": "stream",
     "text": [
      "Sources:  ['spring' 'rainwater harvesting' 'dam' 'machine dbh' 'other'\n",
      " 'shallow well' 'river' 'hand dtw' 'lake' 'unknown']\n",
      "Source Types:  ['spring' 'rainwater harvesting' 'dam' 'borehole' 'other' 'shallow well'\n",
      " 'river/lake']\n",
      "Source Classes:  ['groundwater' 'surface' 'unknown']\n"
     ]
    },
    {
     "data": {
      "text/plain": [
       "source_class  source_type           source              \n",
       "groundwater   borehole              hand dtw                 1108\n",
       "                                    machine dbh             13822\n",
       "              shallow well          shallow well            21140\n",
       "              spring                spring                  21216\n",
       "surface       dam                   dam                       840\n",
       "              rainwater harvesting  rainwater harvesting     2863\n",
       "              river/lake            lake                      950\n",
       "                                    river                   11964\n",
       "unknown       other                 other                     261\n",
       "                                    unknown                    86\n",
       "Name: id, dtype: int64"
      ]
     },
     "execution_count": 65,
     "metadata": {},
     "output_type": "execute_result"
    }
   ],
   "source": [
    "print(\"Sources: \", df['source'].unique())\n",
    "print(\"Source Types: \", df['source_type'].unique())\n",
    "print(\"Source Classes: \", df['source_class'].unique())\n",
    "df.groupby(['source_class', 'source_type', 'source'])['id'].count()"
   ]
  },
  {
   "cell_type": "code",
   "execution_count": 66,
   "metadata": {
    "cell_id": "00059-4c5e0aee-79c8-4fce-bec7-10ce0883eadb",
    "deepnote_app_coordinates": {
     "h": 5,
     "w": 24,
     "x": 0,
     "y": 321
    },
    "deepnote_cell_type": "code",
    "deepnote_to_be_reexecuted": false,
    "execution_millis": 812,
    "execution_start": 1631635321328,
    "source_hash": "f0ae767d",
    "tags": []
   },
   "outputs": [
    {
     "data": {
      "text/plain": [
       "<AxesSubplot:xlabel='source', ylabel='count'>"
      ]
     },
     "execution_count": 66,
     "metadata": {},
     "output_type": "execute_result"
    },
    {
     "data": {
      "image/png": "[encoded data removed]",
      "text/plain": [
       "<Figure size 1440x360 with 1 Axes>"
      ]
     },
     "metadata": {
      "needs_background": "light"
     },
     "output_type": "display_data"
    }
   ],
   "source": [
    "plt.figure(figsize=(20,5))\n",
    "sns.countplot(data=df, x='source', hue='status_group')"
   ]
  },
  {
   "cell_type": "markdown",
   "metadata": {
    "cell_id": "00045-74313001-96b0-43e0-aa8c-3f9be1b387d8",
    "deepnote_app_coordinates": {
     "h": 2,
     "w": 24,
     "x": 0,
     "y": 279
    },
    "deepnote_cell_type": "text-cell-h3",
    "is_collapsed": false,
    "tags": []
   },
   "source": [
    "### Waterpoint type and Waterpoint type group"
   ]
  },
  {
   "cell_type": "code",
   "execution_count": 67,
   "metadata": {
    "cell_id": "00046-3620aeed-a42b-4b7c-a3dd-67689b370b22",
    "deepnote_app_coordinates": {
     "h": 5,
     "w": 24,
     "x": 0,
     "y": 282
    },
    "deepnote_cell_type": "code",
    "deepnote_to_be_reexecuted": false,
    "execution_millis": 199,
    "execution_start": 1631635322159,
    "source_hash": "cecffc59",
    "tags": []
   },
   "outputs": [
    {
     "data": {
      "text/plain": [
       "communal standpipe multiple    7611\n",
       "Name: waterpoint_type, dtype: int64"
      ]
     },
     "execution_count": 67,
     "metadata": {},
     "output_type": "execute_result"
    }
   ],
   "source": [
    "df[df['waterpoint_type'] != df['waterpoint_type_group']]['waterpoint_type'].value_counts()"
   ]
  },
  {
   "cell_type": "markdown",
   "metadata": {
    "cell_id": "00047-7abb7ff4-b535-4e29-aeca-1f527cdf2643",
    "deepnote_app_coordinates": {
     "h": 5,
     "w": 24,
     "x": 0,
     "y": 288
    },
    "deepnote_cell_type": "markdown",
    "tags": []
   },
   "source": [
    "So we can simply use only one of these two."
   ]
  },
  {
   "cell_type": "code",
   "execution_count": 68,
   "metadata": {
    "cell_id": "00048-bf97eebf-95b1-4c29-9671-6c188698e617",
    "deepnote_app_coordinates": {
     "h": 5,
     "w": 24,
     "x": 0,
     "y": 294
    },
    "deepnote_cell_type": "code",
    "deepnote_to_be_reexecuted": false,
    "execution_millis": 164,
    "execution_start": 1631635322194,
    "source_hash": "bc62235b",
    "tags": []
   },
   "outputs": [
    {
     "name": "stdout",
     "output_type": "stream",
     "text": [
      "communal standpipe             35628\n",
      "hand pump                      21884\n",
      "other                           8010\n",
      "communal standpipe multiple     7611\n",
      "improved spring                  959\n",
      "cattle trough                    150\n",
      "dam                                8\n",
      "Name: waterpoint_type, dtype: int64\n"
     ]
    }
   ],
   "source": [
    "print(df['waterpoint_type'].value_counts())"
   ]
  },
  {
   "cell_type": "code",
   "execution_count": 69,
   "metadata": {
    "cell_id": "00049-148e8453-9eea-4360-8178-211650b3d3b6",
    "deepnote_app_coordinates": {
     "h": 5,
     "w": 24,
     "x": 0,
     "y": 300
    },
    "deepnote_cell_type": "code",
    "deepnote_to_be_reexecuted": false,
    "execution_millis": 171,
    "execution_start": 1631635322199,
    "source_hash": "9d1b6ef8",
    "tags": []
   },
   "outputs": [
    {
     "name": "stdout",
     "output_type": "stream",
     "text": [
      "communal standpipe    43239\n",
      "hand pump             21884\n",
      "other                  8010\n",
      "improved spring         959\n",
      "cattle trough           150\n",
      "dam                       8\n",
      "Name: waterpoint_type_group, dtype: int64\n"
     ]
    }
   ],
   "source": [
    "print(df['waterpoint_type_group'].value_counts())"
   ]
  },
  {
   "cell_type": "code",
   "execution_count": 70,
   "metadata": {
    "cell_id": "00047-6f5a432e-1c35-4b91-be06-d25c7fbb847a",
    "deepnote_app_coordinates": {
     "h": 5,
     "w": 24,
     "x": 0,
     "y": 306
    },
    "deepnote_cell_type": "code",
    "deepnote_to_be_reexecuted": false,
    "execution_millis": 443,
    "execution_start": 1631635322298,
    "source_hash": "aff34a6",
    "tags": []
   },
   "outputs": [
    {
     "data": {
      "text/plain": [
       "<AxesSubplot:xlabel='waterpoint_type', ylabel='count'>"
      ]
     },
     "execution_count": 70,
     "metadata": {},
     "output_type": "execute_result"
    },
    {
     "data": {
      "image/png": "[encoded data removed]",
      "text/plain": [
       "<Figure size 1440x360 with 1 Axes>"
      ]
     },
     "metadata": {
      "needs_background": "light"
     },
     "output_type": "display_data"
    }
   ],
   "source": [
    "df_ = df.copy()\n",
    "plt.figure(figsize=(20,5))\n",
    "sns.countplot(data=df_, x='waterpoint_type', hue='status_group')"
   ]
  },
  {
   "cell_type": "code",
   "execution_count": 71,
   "metadata": {
    "cell_id": "00098-2ede57aa-adfd-4bf0-a191-6096cf998225",
    "deepnote_app_coordinates": {
     "h": 5,
     "w": 24,
     "x": 0,
     "y": 0
    },
    "deepnote_cell_type": "code",
    "deepnote_to_be_reexecuted": false,
    "execution_millis": 21,
    "execution_start": 1631635322738,
    "source_hash": "f7b64848",
    "tags": []
   },
   "outputs": [
    {
     "data": {
      "text/plain": [
       "waterpoint_type_group  waterpoint_type            \n",
       "cattle trough          cattle trough                    150\n",
       "communal standpipe     communal standpipe             35628\n",
       "                       communal standpipe multiple     7611\n",
       "dam                    dam                                8\n",
       "hand pump              hand pump                      21884\n",
       "improved spring        improved spring                  959\n",
       "other                  other                           8010\n",
       "Name: id, dtype: int64"
      ]
     },
     "execution_count": 71,
     "metadata": {},
     "output_type": "execute_result"
    }
   ],
   "source": [
    "df.groupby(['waterpoint_type_group', 'waterpoint_type'])['id'].count()"
   ]
  },
  {
   "cell_type": "markdown",
   "metadata": {
    "cell_id": "00104-73ed2bde-3d33-4c8b-93dd-636688ba3445",
    "deepnote_app_coordinates": {
     "h": 2,
     "w": 24,
     "x": 0,
     "y": 0
    },
    "deepnote_cell_type": "text-cell-h2",
    "is_collapsed": false,
    "tags": []
   },
   "source": [
    "## Preprocessing"
   ]
  },
  {
   "cell_type": "code",
   "execution_count": 72,
   "metadata": {
    "cell_id": "00105-172ce387-d9ce-42d8-ad1f-9e3debd5b9fc",
    "deepnote_app_coordinates": {
     "h": 5,
     "w": 24,
     "x": 0,
     "y": 0
    },
    "deepnote_cell_type": "code",
    "deepnote_to_be_reexecuted": false,
    "execution_millis": 1077,
    "execution_start": 1631635350697,
    "source_hash": "21df4fae",
    "tags": []
   },
   "outputs": [],
   "source": [
    "train_X = pd.read_csv(DATA_DIR/'TrainData.csv')\n",
    "train_Y = pd.read_csv(DATA_DIR/'TrainLabels.csv')\n",
    "test_X = pd.read_csv(DATA_DIR/'TestData.csv')\n",
    "\n",
    "train_test_X = train_X.append(test_X)\n",
    "train_XY = train_X.merge(train_Y, left_on=\"id\", right_on=\"id\", how=\"outer\")\n",
    "train_test_XY = train_test_X.merge(train_Y, left_on=\"id\", right_on=\"id\", how=\"outer\")"
   ]
  },
  {
   "cell_type": "code",
   "execution_count": 73,
   "metadata": {
    "cell_id": "00110-79c9befa-945d-4aa3-8329-2e87b3106a60",
    "deepnote_app_coordinates": {
     "h": 5,
     "w": 24,
     "x": 0,
     "y": 0
    },
    "deepnote_cell_type": "code",
    "deepnote_to_be_reexecuted": false,
    "execution_millis": 31,
    "execution_start": 1631635353027,
    "source_hash": "2b7b7104",
    "tags": []
   },
   "outputs": [],
   "source": [
    "df = train_test_XY.copy()"
   ]
  },
  {
   "cell_type": "markdown",
   "metadata": {
    "cell_id": "00112-40eebcd4-f36b-43ee-94ce-da0f9029ca29",
    "deepnote_app_coordinates": {
     "h": 2,
     "w": 24,
     "x": 0,
     "y": 0
    },
    "deepnote_cell_type": "text-cell-h3",
    "is_collapsed": false,
    "tags": []
   },
   "source": [
    "### Text transformations"
   ]
  },
  {
   "cell_type": "code",
   "execution_count": 74,
   "metadata": {
    "cell_id": "00113-4cb3dc27-a206-44e8-b91a-0dbbf3f4aa3b",
    "deepnote_app_coordinates": {
     "h": 5,
     "w": 24,
     "x": 0,
     "y": 0
    },
    "deepnote_cell_type": "code",
    "deepnote_to_be_reexecuted": false,
    "execution_millis": 180,
    "execution_start": 1631635422013,
    "source_hash": "16eb104c",
    "tags": []
   },
   "outputs": [
    {
     "name": "stdout",
     "output_type": "stream",
     "text": [
      "Reduced 2411 to 2130 columns\n",
      "Reduced 2141 to 2141 columns\n"
     ]
    }
   ],
   "source": [
    "df['installer_text'] = clean_text(df['installer'])\n",
    "df['funder_text'] = clean_text(df['funder'])"
   ]
  },
  {
   "cell_type": "markdown",
   "metadata": {
    "cell_id": "00110-55d285e2-1a86-4965-af01-db876fdfda57",
    "deepnote_app_coordinates": {
     "h": 2,
     "w": 24,
     "x": 0,
     "y": 0
    },
    "deepnote_cell_type": "text-cell-h3",
    "is_collapsed": false,
    "tags": []
   },
   "source": [
    "### Continous Variables"
   ]
  },
  {
   "cell_type": "code",
   "execution_count": 75,
   "metadata": {
    "cell_id": "00111-a94e51df-de00-43d8-9379-1a73eb864754",
    "deepnote_app_coordinates": {
     "h": 5,
     "w": 24,
     "x": 0,
     "y": 0
    },
    "deepnote_cell_type": "code",
    "deepnote_to_be_reexecuted": false,
    "execution_millis": 56,
    "execution_start": 1631632664112,
    "source_hash": "eaefaebd",
    "tags": []
   },
   "outputs": [],
   "source": [
    "df['amount_tsh_missing'] = (df['amount_tsh'] == 0).astype(int)\n",
    "df['amount_tsh_log_std'] = standardize(np.log(df['amount_tsh'] + 0.01))\n",
    "\n",
    "df['population_missing'] = (df['population'] == 0).astype(int)\n",
    "df['population_too_small'] = ((0 < df['population']) & (df['population'] < 10)).astype(int)\n",
    "df['population_log_std'] = standardize(np.log(df['population'] + 0.01))\n",
    "\n",
    "df['gps_height_std'] = standardize(df['gps_height'])"
   ]
  },
  {
   "cell_type": "markdown",
   "metadata": {
    "cell_id": "00110-68be9cb6-c640-4073-9b2a-30bf464d94cd",
    "deepnote_app_coordinates": {
     "h": 2,
     "w": 24,
     "x": 0,
     "y": 0
    },
    "deepnote_cell_type": "text-cell-h3",
    "is_collapsed": false,
    "tags": []
   },
   "source": [
    "### Categorical Variables"
   ]
  },
  {
   "cell_type": "code",
   "execution_count": 76,
   "metadata": {
    "cell_id": "00107-5243ffca-c385-4565-9f7b-4a9ad5ed0faa",
    "deepnote_app_coordinates": {
     "h": 5,
     "w": 24,
     "x": 0,
     "y": 0
    },
    "deepnote_cell_type": "code",
    "deepnote_to_be_reexecuted": false,
    "execution_millis": 110445,
    "execution_start": 1631632664169,
    "source_hash": "ee540d11",
    "tags": []
   },
   "outputs": [],
   "source": [
    "cats = {}\n",
    "\n",
    "df['funder_cat'], cats['funder'] = label_encode(df['funder'], low_count=100) # low_count=100\n",
    "df['installer_cat'], cats['installer'] = label_encode(df['installer'])\n",
    "df['basin_cat'], cats['basin'] = label_encode(df['basin']) \n",
    "df['region_cat'], cats['region'] = label_encode(df['region']) \n",
    "df['subvillage_cat'], cats['subvillage'] = label_encode(df['subvillage'], low_count=100)  # low_count=100\n",
    "\n",
    "df['district_code_cat'], cats['district_code'] = label_encode(df['district_code'])\n",
    "df['lga_cat'], cats['lga'] = label_encode(df['lga'], low_count=20)\n",
    "df['ward_cat'], cats['ward'] = label_encode(df['ward'], low_count=10)\n",
    "df['public_meeting_cat'], cats['public_meeting'] = label_encode(df['public_meeting'])\n",
    "\n",
    "df['scheme_management_cat'], cats['scheme_management'] = label_encode(df['scheme_management'])\n",
    "df['extraction_type_group_cat'], cats['extraction_type_group'] = label_encode(df['extraction_type_group'])\n",
    "df['extraction_type_class_cat'], cats['extraction_type_class'] = label_encode(df['extraction_type_class'])\n",
    "df['management_cat'], cats['management'] = label_encode(df['management'])\n",
    "df['payment_cat'], cats['payment'] = label_encode(df['payment'])\n",
    "df['quality_group_cat'], cats['quality_group'] = label_encode(df['quality_group'])\n",
    "df['water_quality_cat'], cats['water_quality'] = label_encode(df['water_quality'])\n",
    "df['quantity_cat'], cats['quantity'] = label_encode(df['quantity'])\n",
    "df['source_cat'], cats['source'] = label_encode(df['source'])\n",
    "df['waterpoint_type_cat'], cats['waterpoint_type'] = label_encode(df['waterpoint_type'])\n",
    "\n",
    "df['status_group_cat'], cats['status_group'] = label_encode(df['status_group'])"
   ]
  },
  {
   "cell_type": "code",
   "execution_count": 77,
   "metadata": {
    "cell_id": "00115-a8de3bc3-4dd9-4569-b1f4-9fbcd1568d07",
    "deepnote_app_coordinates": {
     "h": 5,
     "w": 24,
     "x": 0,
     "y": 0
    },
    "deepnote_cell_type": "code",
    "deepnote_to_be_reexecuted": false,
    "execution_millis": 230,
    "execution_start": 1631632774614,
    "source_hash": "ab518459",
    "tags": []
   },
   "outputs": [],
   "source": [
    "df_proc = df.copy()\n",
    "\n",
    "cat_cols = ['funder_cat', 'installer_cat', 'basin_cat', 'district_code_cat', 'region_cat', 'subvillage_cat', 'lga_cat', 'ward_cat',\n",
    "            'public_meeting_cat', 'scheme_management_cat', 'extraction_type_group_cat', 'extraction_type_class_cat',\n",
    "            'management_cat', 'payment_cat', 'quality_group_cat', 'water_quality_cat', 'quantity_cat', 'source_cat', \n",
    "            'waterpoint_type_cat', \n",
    "\n",
    "            'amount_tsh_missing', 'population_missing', 'population_too_small']\n",
    "cont_cols = ['amount_tsh_log_std', 'population_log_std', 'gps_height_std',\n",
    "            'longitude', 'latitude',\n",
    "            ]\n",
    "\n",
    "df_proc_train = df_proc[df_proc['status_group_cat'] != 3].copy()\n",
    "df_proc_test = df_proc[df_proc['status_group_cat'] == 3].copy()"
   ]
  },
  {
   "cell_type": "markdown",
   "metadata": {
    "cell_id": "00111-33a59649-2c59-443d-9d12-f2426cb0b8f4",
    "deepnote_app_coordinates": {
     "h": 2,
     "w": 24,
     "x": 0,
     "y": 0
    },
    "deepnote_cell_type": "text-cell-h2",
    "is_collapsed": false,
    "tags": []
   },
   "source": [
    "## Model Training"
   ]
  },
  {
   "cell_type": "markdown",
   "metadata": {
    "cell_id": "00106-2754e507-d22e-4f65-8e63-ebe24e05595c",
    "deepnote_app_coordinates": {
     "h": 2,
     "w": 24,
     "x": 0,
     "y": 0
    },
    "deepnote_cell_type": "text-cell-h3",
    "is_collapsed": false,
    "tags": []
   },
   "source": [
    "### Random Forest Model Training"
   ]
  },
  {
   "cell_type": "code",
   "execution_count": 78,
   "metadata": {
    "cell_id": "00111-be08f347-abbf-45d6-9123-2cf9da1bf414",
    "deepnote_app_coordinates": {
     "h": 5,
     "w": 24,
     "x": 0,
     "y": 0
    },
    "deepnote_cell_type": "code",
    "deepnote_to_be_reexecuted": false,
    "execution_millis": 42,
    "execution_start": 1631628419399,
    "source_hash": "c2d3b242",
    "tags": []
   },
   "outputs": [
    {
     "name": "stdout",
     "output_type": "stream",
     "text": [
      "Training Features Shape: (47520, 27)\n",
      "Training Labels Shape: (47520,)\n",
      "Testing Features Shape: (11880, 27)\n",
      "Testing Labels Shape: (11880,)\n"
     ]
    }
   ],
   "source": [
    "df = df_proc_train.copy()\n",
    "train_features, test_features, train_labels, test_labels = train_test_split(df[cat_cols + cont_cols], \n",
    "                                                            df['status_group_cat'], test_size=0.2, random_state=42)\n",
    "\n",
    "print('Training Features Shape:', train_features.shape)\n",
    "print('Training Labels Shape:', train_labels.shape)\n",
    "print('Testing Features Shape:', test_features.shape)\n",
    "print('Testing Labels Shape:', test_labels.shape)"
   ]
  },
  {
   "cell_type": "markdown",
   "metadata": {},
   "source": [
    "#### Balance Dataset"
   ]
  },
  {
   "cell_type": "code",
   "execution_count": 79,
   "metadata": {
    "cell_id": "00117-cbc4c967-137a-43e6-8a0a-3867df67319d",
    "deepnote_app_coordinates": {
     "h": 5,
     "w": 24,
     "x": 0,
     "y": 0
    },
    "deepnote_cell_type": "code",
    "deepnote_to_be_reexecuted": false,
    "execution_millis": 97,
    "execution_start": 1631628310999,
    "source_hash": "64474fda",
    "tags": []
   },
   "outputs": [
    {
     "name": "stdout",
     "output_type": "stream",
     "text": [
      "Training Features Shape: (77406, 27)\n",
      "Training Labels Shape: (77406,)\n"
     ]
    }
   ],
   "source": [
    "from imblearn.over_sampling import RandomOverSampler\n",
    "\n",
    "over_sampler = RandomOverSampler(random_state=42)\n",
    "train_features_balanced, train_labels_balanced = over_sampler.fit_resample(train_features, train_labels)\n",
    "print('Training Features Shape:', train_features_balanced.shape)\n",
    "print('Training Labels Shape:', train_labels_balanced.shape)"
   ]
  },
  {
   "cell_type": "code",
   "execution_count": 80,
   "metadata": {
    "cell_id": "00117-5f04783b-17ac-4d4a-bdd2-66f1865912f4",
    "deepnote_app_coordinates": {
     "h": 5,
     "w": 24,
     "x": 0,
     "y": 0
    },
    "deepnote_cell_type": "code",
    "deepnote_to_be_reexecuted": false,
    "execution_start": 1631628436805,
    "source_hash": "f002622f",
    "tags": []
   },
   "outputs": [
    {
     "name": "stdout",
     "output_type": "stream",
     "text": [
      "Training Features Shape: (77406, 27)\n",
      "Training Labels Shape: (77406,)\n"
     ]
    }
   ],
   "source": [
    "from imblearn.over_sampling import SMOTE\n",
    "\n",
    "over_sampler = SMOTE(k_neighbors=2)\n",
    "train_features_balanced, train_labels_balanced = over_sampler.fit_resample(train_features, train_labels)\n",
    "print('Training Features Shape:', train_features_balanced.shape)\n",
    "print('Training Labels Shape:', train_labels_balanced.shape)"
   ]
  },
  {
   "cell_type": "markdown",
   "metadata": {},
   "source": [
    "#### Run model"
   ]
  },
  {
   "cell_type": "code",
   "execution_count": 81,
   "metadata": {
    "cell_id": "00115-dc6887bd-3e36-4a97-a6da-8fa0364452ab",
    "deepnote_app_coordinates": {
     "h": 5,
     "w": 24,
     "x": 0,
     "y": 0
    },
    "deepnote_cell_type": "code",
    "deepnote_to_be_reexecuted": false,
    "execution_millis": 24257,
    "execution_start": 1631628315182,
    "source_hash": "8af77ba9",
    "tags": []
   },
   "outputs": [
    {
     "name": "stderr",
     "output_type": "stream",
     "text": [
      "[Parallel(n_jobs=1)]: Using backend SequentialBackend with 1 concurrent workers.\n",
      "[Parallel(n_jobs=1)]: Done 100 out of 100 | elapsed:    7.6s finished\n",
      "[Parallel(n_jobs=1)]: Using backend SequentialBackend with 1 concurrent workers.\n"
     ]
    },
    {
     "name": "stdout",
     "output_type": "stream",
     "text": [
      "Accuracy: 0.8074915824915825\n",
      "              precision    recall  f1-score   support\n",
      "\n",
      "           0       0.81      0.88      0.85      6457\n",
      "           1       0.52      0.35      0.42       851\n",
      "           2       0.84      0.79      0.81      4572\n",
      "\n",
      "    accuracy                           0.81     11880\n",
      "   macro avg       0.72      0.67      0.69     11880\n",
      "weighted avg       0.80      0.81      0.80     11880\n",
      "\n"
     ]
    },
    {
     "name": "stderr",
     "output_type": "stream",
     "text": [
      "[Parallel(n_jobs=1)]: Done 100 out of 100 | elapsed:    0.3s finished\n"
     ]
    }
   ],
   "source": [
    "model = RandomForestClassifier(n_estimators=100, random_state=42, verbose=1)\n",
    "model.fit(train_features, train_labels)\n",
    "predictions = model.predict(test_features) \n",
    "print(\"Accuracy:\",metrics.accuracy_score(test_labels, predictions))\n",
    "print(metrics.classification_report(test_labels, predictions))"
   ]
  },
  {
   "cell_type": "markdown",
   "metadata": {
    "cell_id": "00116-f5a60faf-73ba-4abe-8c87-325e30041cef",
    "deepnote_app_coordinates": {
     "h": 5,
     "w": 24,
     "x": 0,
     "y": 0
    },
    "deepnote_cell_type": "markdown",
    "tags": []
   },
   "source": [
    "Rerun, but without splitting to a validation set. Train on the whole dataset.\n",
    "\n",
    "Current Best\n",
    "- score = 0.8074915824915825\n",
    "- validation set = 20%\n",
    "- n_estimators = 200\n",
    "- random_state = 42\n",
    "\n",
    "Benchmark = 0.8074915824915825"
   ]
  },
  {
   "cell_type": "markdown",
   "metadata": {},
   "source": [
    "#### Predict"
   ]
  },
  {
   "cell_type": "markdown",
   "metadata": {
    "deepnote_cell_type": "text-cell-p",
    "is_collapsed": false,
    "tags": []
   },
   "source": [
    "Rerun, but without splitting to a validation set. Train on the whole dataset. (Note: Benchmark=0.80496632996633 on 20% validation set, 42 random state)"
   ]
  },
  {
   "cell_type": "code",
   "execution_count": 82,
   "metadata": {
    "cell_id": "00116-d71cdab7-b421-440a-ada9-ce409dfa012a",
    "deepnote_app_coordinates": {
     "h": 5,
     "w": 24,
     "x": 0,
     "y": 0
    },
    "deepnote_cell_type": "code",
    "deepnote_to_be_reexecuted": false,
    "execution_millis": 9800,
    "execution_start": 1631627056618,
    "source_hash": "256bf8ab",
    "tags": []
   },
   "outputs": [
    {
     "name": "stderr",
     "output_type": "stream",
     "text": [
      "[Parallel(n_jobs=1)]: Using backend SequentialBackend with 1 concurrent workers.\n",
      "[Parallel(n_jobs=1)]: Done 200 out of 200 | elapsed:   18.1s finished\n"
     ]
    },
    {
     "data": {
      "text/plain": [
       "RandomForestClassifier(n_estimators=200, random_state=42, verbose=1)"
      ]
     },
     "execution_count": 82,
     "metadata": {},
     "output_type": "execute_result"
    }
   ],
   "source": [
    "df = df_proc_train.copy()\n",
    "all_features = df[cat_cols + cont_cols]\n",
    "all_labels = df['status_group_cat']\n",
    "model = RandomForestClassifier(n_estimators=200, random_state=42, verbose=1)\n",
    "model.fit(all_features, all_labels)"
   ]
  },
  {
   "cell_type": "code",
   "execution_count": 83,
   "metadata": {
    "cell_id": "00117-df79ab25-5b2b-4a00-a6d4-ea43389a63b3",
    "deepnote_app_coordinates": {
     "h": 5,
     "w": 24,
     "x": 0,
     "y": 0
    },
    "deepnote_cell_type": "code",
    "deepnote_to_be_reexecuted": false,
    "execution_millis": 1508,
    "execution_start": 1631626282155,
    "source_hash": "52162fa2",
    "tags": []
   },
   "outputs": [
    {
     "name": "stderr",
     "output_type": "stream",
     "text": [
      "[Parallel(n_jobs=1)]: Using backend SequentialBackend with 1 concurrent workers.\n",
      "[Parallel(n_jobs=1)]: Done 200 out of 200 | elapsed:    0.8s finished\n"
     ]
    }
   ],
   "source": [
    "df = df_proc_test.copy()\n",
    "all_test_features = df[cat_cols + cont_cols]\n",
    "predictions = model.predict(all_test_features)"
   ]
  },
  {
   "cell_type": "code",
   "execution_count": 84,
   "metadata": {
    "cell_id": "00119-1c7f46c5-20ee-46dc-8502-830fc171077e",
    "deepnote_app_coordinates": {
     "h": 5,
     "w": 24,
     "x": 0,
     "y": 0
    },
    "deepnote_cell_type": "code",
    "deepnote_to_be_reexecuted": false,
    "execution_millis": 128,
    "execution_start": 1631626285833,
    "source_hash": "eeae02b1",
    "tags": []
   },
   "outputs": [
    {
     "data": {
      "text/html": [
       "<div>\n",
       "<style scoped>\n",
       "    .dataframe tbody tr th:only-of-type {\n",
       "        vertical-align: middle;\n",
       "    }\n",
       "\n",
       "    .dataframe tbody tr th {\n",
       "        vertical-align: top;\n",
       "    }\n",
       "\n",
       "    .dataframe thead th {\n",
       "        text-align: right;\n",
       "    }\n",
       "</style>\n",
       "<table border=\"1\" class=\"dataframe\">\n",
       "  <thead>\n",
       "    <tr style=\"text-align: right;\">\n",
       "      <th></th>\n",
       "      <th>id</th>\n",
       "      <th>status_group</th>\n",
       "    </tr>\n",
       "  </thead>\n",
       "  <tbody>\n",
       "    <tr>\n",
       "      <th>0</th>\n",
       "      <td>50785</td>\n",
       "      <td>non functional</td>\n",
       "    </tr>\n",
       "    <tr>\n",
       "      <th>1</th>\n",
       "      <td>51630</td>\n",
       "      <td>functional</td>\n",
       "    </tr>\n",
       "    <tr>\n",
       "      <th>2</th>\n",
       "      <td>17168</td>\n",
       "      <td>functional</td>\n",
       "    </tr>\n",
       "    <tr>\n",
       "      <th>3</th>\n",
       "      <td>45559</td>\n",
       "      <td>non functional</td>\n",
       "    </tr>\n",
       "    <tr>\n",
       "      <th>4</th>\n",
       "      <td>49871</td>\n",
       "      <td>functional</td>\n",
       "    </tr>\n",
       "  </tbody>\n",
       "</table>\n",
       "</div>"
      ],
      "text/plain": [
       "      id    status_group\n",
       "0  50785  non functional\n",
       "1  51630      functional\n",
       "2  17168      functional\n",
       "3  45559  non functional\n",
       "4  49871      functional"
      ]
     },
     "execution_count": 84,
     "metadata": {},
     "output_type": "execute_result"
    }
   ],
   "source": [
    "label_preds = []\n",
    "for idx, i in zip(test_X.id, predictions):\n",
    "    label = cats['status_group'][i]\n",
    "    label_preds.append([idx, label])\n",
    "solution_df = pd.DataFrame(label_preds, columns=['id', 'status_group'])\n",
    "solution_df.head()"
   ]
  },
  {
   "cell_type": "code",
   "execution_count": 85,
   "metadata": {
    "cell_id": "00123-c45c320d-18d6-452c-ac4b-007cb58a0e63",
    "deepnote_app_coordinates": {
     "h": 5,
     "w": 24,
     "x": 0,
     "y": 0
    },
    "deepnote_cell_type": "code",
    "deepnote_to_be_reexecuted": false,
    "execution_millis": 45,
    "execution_start": 1631626301530,
    "source_hash": "d33b41b2",
    "tags": []
   },
   "outputs": [],
   "source": [
    "solution_df.to_csv(\"random-forest.csv\", index=False)"
   ]
  },
  {
   "cell_type": "markdown",
   "metadata": {
    "cell_id": "00105-8e23ba0e-926a-45e5-93f0-c63e2687159a",
    "deepnote_app_coordinates": {
     "h": 2,
     "w": 24,
     "x": 0,
     "y": 0
    },
    "deepnote_cell_type": "text-cell-h3",
    "is_collapsed": false,
    "tags": []
   },
   "source": [
    "### Fast.ai Tabular Model Training (Deep Learning)"
   ]
  },
  {
   "cell_type": "code",
   "execution_count": 86,
   "metadata": {
    "cell_id": "00108-19c8b509-982f-4936-becb-1b1a4a770aca",
    "deepnote_app_coordinates": {
     "h": 5,
     "w": 24,
     "x": 0,
     "y": 0
    },
    "deepnote_cell_type": "code",
    "deepnote_to_be_reexecuted": false,
    "execution_millis": 1113,
    "execution_start": 1631625966661,
    "source_hash": "7f2be1a2",
    "tags": []
   },
   "outputs": [
    {
     "data": {
      "text/html": [
       "<table border=\"1\" class=\"dataframe\">\n",
       "  <thead>\n",
       "    <tr style=\"text-align: right;\">\n",
       "      <th></th>\n",
       "      <th>funder_cat</th>\n",
       "      <th>installer_cat</th>\n",
       "      <th>basin_cat</th>\n",
       "      <th>district_code_cat</th>\n",
       "      <th>region_cat</th>\n",
       "      <th>subvillage_cat</th>\n",
       "      <th>lga_cat</th>\n",
       "      <th>ward_cat</th>\n",
       "      <th>public_meeting_cat</th>\n",
       "      <th>scheme_management_cat</th>\n",
       "      <th>extraction_type_group_cat</th>\n",
       "      <th>extraction_type_class_cat</th>\n",
       "      <th>management_cat</th>\n",
       "      <th>payment_cat</th>\n",
       "      <th>quality_group_cat</th>\n",
       "      <th>water_quality_cat</th>\n",
       "      <th>quantity_cat</th>\n",
       "      <th>source_cat</th>\n",
       "      <th>waterpoint_type_cat</th>\n",
       "      <th>amount_tsh_missing</th>\n",
       "      <th>population_missing</th>\n",
       "      <th>population_too_small</th>\n",
       "      <th>amount_tsh_log_std</th>\n",
       "      <th>population_log_std</th>\n",
       "      <th>gps_height_std</th>\n",
       "      <th>longitude</th>\n",
       "      <th>latitude</th>\n",
       "      <th>status_group</th>\n",
       "    </tr>\n",
       "  </thead>\n",
       "  <tbody>\n",
       "    <tr>\n",
       "      <th>0</th>\n",
       "      <td>85</td>\n",
       "      <td>1939</td>\n",
       "      <td>5</td>\n",
       "      <td>3</td>\n",
       "      <td>6</td>\n",
       "      <td>0</td>\n",
       "      <td>101</td>\n",
       "      <td>1726</td>\n",
       "      <td>1</td>\n",
       "      <td>11</td>\n",
       "      <td>1</td>\n",
       "      <td>0</td>\n",
       "      <td>7</td>\n",
       "      <td>0</td>\n",
       "      <td>2</td>\n",
       "      <td>6</td>\n",
       "      <td>2</td>\n",
       "      <td>8</td>\n",
       "      <td>1</td>\n",
       "      <td>1</td>\n",
       "      <td>0</td>\n",
       "      <td>0</td>\n",
       "      <td>-0.63634</td>\n",
       "      <td>0.924775</td>\n",
       "      <td>1.282308</td>\n",
       "      <td>37.968121</td>\n",
       "      <td>-4.499683e+00</td>\n",
       "      <td>functional</td>\n",
       "    </tr>\n",
       "    <tr>\n",
       "      <th>1</th>\n",
       "      <td>29</td>\n",
       "      <td>438</td>\n",
       "      <td>8</td>\n",
       "      <td>1</td>\n",
       "      <td>11</td>\n",
       "      <td>0</td>\n",
       "      <td>37</td>\n",
       "      <td>22</td>\n",
       "      <td>1</td>\n",
       "      <td>7</td>\n",
       "      <td>6</td>\n",
       "      <td>3</td>\n",
       "      <td>7</td>\n",
       "      <td>0</td>\n",
       "      <td>2</td>\n",
       "      <td>6</td>\n",
       "      <td>1</td>\n",
       "      <td>7</td>\n",
       "      <td>6</td>\n",
       "      <td>1</td>\n",
       "      <td>0</td>\n",
       "      <td>0</td>\n",
       "      <td>-0.63634</td>\n",
       "      <td>0.914243</td>\n",
       "      <td>-0.960890</td>\n",
       "      <td>37.136673</td>\n",
       "      <td>-6.188875e+00</td>\n",
       "      <td>non functional</td>\n",
       "    </tr>\n",
       "    <tr>\n",
       "      <th>2</th>\n",
       "      <td>46</td>\n",
       "      <td>894</td>\n",
       "      <td>1</td>\n",
       "      <td>6</td>\n",
       "      <td>10</td>\n",
       "      <td>35</td>\n",
       "      <td>63</td>\n",
       "      <td>342</td>\n",
       "      <td>1</td>\n",
       "      <td>7</td>\n",
       "      <td>5</td>\n",
       "      <td>1</td>\n",
       "      <td>7</td>\n",
       "      <td>5</td>\n",
       "      <td>2</td>\n",
       "      <td>6</td>\n",
       "      <td>1</td>\n",
       "      <td>7</td>\n",
       "      <td>4</td>\n",
       "      <td>1</td>\n",
       "      <td>1</td>\n",
       "      <td>0</td>\n",
       "      <td>-0.63634</td>\n",
       "      <td>-1.223835</td>\n",
       "      <td>-0.960890</td>\n",
       "      <td>32.897106</td>\n",
       "      <td>-9.243230e+00</td>\n",
       "      <td>non functional</td>\n",
       "    </tr>\n",
       "    <tr>\n",
       "      <th>3</th>\n",
       "      <td>20</td>\n",
       "      <td>442</td>\n",
       "      <td>6</td>\n",
       "      <td>4</td>\n",
       "      <td>3</td>\n",
       "      <td>0</td>\n",
       "      <td>92</td>\n",
       "      <td>520</td>\n",
       "      <td>1</td>\n",
       "      <td>8</td>\n",
       "      <td>9</td>\n",
       "      <td>4</td>\n",
       "      <td>10</td>\n",
       "      <td>5</td>\n",
       "      <td>2</td>\n",
       "      <td>6</td>\n",
       "      <td>1</td>\n",
       "      <td>1</td>\n",
       "      <td>4</td>\n",
       "      <td>1</td>\n",
       "      <td>0</td>\n",
       "      <td>0</td>\n",
       "      <td>-0.63634</td>\n",
       "      <td>0.764610</td>\n",
       "      <td>1.555129</td>\n",
       "      <td>35.008598</td>\n",
       "      <td>-9.265839e+00</td>\n",
       "      <td>functional</td>\n",
       "    </tr>\n",
       "    <tr>\n",
       "      <th>4</th>\n",
       "      <td>20</td>\n",
       "      <td>476</td>\n",
       "      <td>5</td>\n",
       "      <td>2</td>\n",
       "      <td>6</td>\n",
       "      <td>0</td>\n",
       "      <td>85</td>\n",
       "      <td>167</td>\n",
       "      <td>1</td>\n",
       "      <td>7</td>\n",
       "      <td>1</td>\n",
       "      <td>0</td>\n",
       "      <td>7</td>\n",
       "      <td>0</td>\n",
       "      <td>2</td>\n",
       "      <td>6</td>\n",
       "      <td>1</td>\n",
       "      <td>8</td>\n",
       "      <td>6</td>\n",
       "      <td>1</td>\n",
       "      <td>0</td>\n",
       "      <td>0</td>\n",
       "      <td>-0.63634</td>\n",
       "      <td>0.614987</td>\n",
       "      <td>1.061452</td>\n",
       "      <td>37.661751</td>\n",
       "      <td>-3.711309e+00</td>\n",
       "      <td>non functional</td>\n",
       "    </tr>\n",
       "    <tr>\n",
       "      <th>5</th>\n",
       "      <td>23</td>\n",
       "      <td>442</td>\n",
       "      <td>4</td>\n",
       "      <td>1</td>\n",
       "      <td>17</td>\n",
       "      <td>0</td>\n",
       "      <td>6</td>\n",
       "      <td>1388</td>\n",
       "      <td>2</td>\n",
       "      <td>9</td>\n",
       "      <td>5</td>\n",
       "      <td>1</td>\n",
       "      <td>11</td>\n",
       "      <td>6</td>\n",
       "      <td>2</td>\n",
       "      <td>6</td>\n",
       "      <td>1</td>\n",
       "      <td>7</td>\n",
       "      <td>4</td>\n",
       "      <td>1</td>\n",
       "      <td>1</td>\n",
       "      <td>0</td>\n",
       "      <td>-0.63634</td>\n",
       "      <td>-1.223835</td>\n",
       "      <td>-0.960890</td>\n",
       "      <td>0.000000</td>\n",
       "      <td>-2.000000e-08</td>\n",
       "      <td>functional</td>\n",
       "    </tr>\n",
       "    <tr>\n",
       "      <th>6</th>\n",
       "      <td>40</td>\n",
       "      <td>790</td>\n",
       "      <td>8</td>\n",
       "      <td>1</td>\n",
       "      <td>11</td>\n",
       "      <td>0</td>\n",
       "      <td>37</td>\n",
       "      <td>569</td>\n",
       "      <td>2</td>\n",
       "      <td>7</td>\n",
       "      <td>10</td>\n",
       "      <td>5</td>\n",
       "      <td>7</td>\n",
       "      <td>6</td>\n",
       "      <td>2</td>\n",
       "      <td>6</td>\n",
       "      <td>4</td>\n",
       "      <td>3</td>\n",
       "      <td>1</td>\n",
       "      <td>1</td>\n",
       "      <td>0</td>\n",
       "      <td>0</td>\n",
       "      <td>-0.63634</td>\n",
       "      <td>0.962415</td>\n",
       "      <td>-0.312759</td>\n",
       "      <td>37.135387</td>\n",
       "      <td>-6.781456e+00</td>\n",
       "      <td>non functional</td>\n",
       "    </tr>\n",
       "    <tr>\n",
       "      <th>7</th>\n",
       "      <td>30</td>\n",
       "      <td>442</td>\n",
       "      <td>0</td>\n",
       "      <td>2</td>\n",
       "      <td>0</td>\n",
       "      <td>0</td>\n",
       "      <td>1</td>\n",
       "      <td>1474</td>\n",
       "      <td>1</td>\n",
       "      <td>7</td>\n",
       "      <td>1</td>\n",
       "      <td>0</td>\n",
       "      <td>7</td>\n",
       "      <td>0</td>\n",
       "      <td>1</td>\n",
       "      <td>1</td>\n",
       "      <td>1</td>\n",
       "      <td>8</td>\n",
       "      <td>0</td>\n",
       "      <td>1</td>\n",
       "      <td>0</td>\n",
       "      <td>0</td>\n",
       "      <td>-0.63634</td>\n",
       "      <td>0.852138</td>\n",
       "      <td>1.286638</td>\n",
       "      <td>36.696793</td>\n",
       "      <td>-3.102546e+00</td>\n",
       "      <td>functional</td>\n",
       "    </tr>\n",
       "    <tr>\n",
       "      <th>8</th>\n",
       "      <td>0</td>\n",
       "      <td>610</td>\n",
       "      <td>4</td>\n",
       "      <td>2</td>\n",
       "      <td>9</td>\n",
       "      <td>0</td>\n",
       "      <td>103</td>\n",
       "      <td>1320</td>\n",
       "      <td>0</td>\n",
       "      <td>0</td>\n",
       "      <td>10</td>\n",
       "      <td>5</td>\n",
       "      <td>0</td>\n",
       "      <td>0</td>\n",
       "      <td>4</td>\n",
       "      <td>4</td>\n",
       "      <td>1</td>\n",
       "      <td>3</td>\n",
       "      <td>1</td>\n",
       "      <td>1</td>\n",
       "      <td>0</td>\n",
       "      <td>0</td>\n",
       "      <td>-0.63634</td>\n",
       "      <td>0.614987</td>\n",
       "      <td>0.853588</td>\n",
       "      <td>34.406990</td>\n",
       "      <td>-2.124258e+00</td>\n",
       "      <td>functional</td>\n",
       "    </tr>\n",
       "    <tr>\n",
       "      <th>9</th>\n",
       "      <td>77</td>\n",
       "      <td>442</td>\n",
       "      <td>3</td>\n",
       "      <td>3</td>\n",
       "      <td>17</td>\n",
       "      <td>0</td>\n",
       "      <td>26</td>\n",
       "      <td>71</td>\n",
       "      <td>1</td>\n",
       "      <td>12</td>\n",
       "      <td>6</td>\n",
       "      <td>3</td>\n",
       "      <td>11</td>\n",
       "      <td>6</td>\n",
       "      <td>3</td>\n",
       "      <td>3</td>\n",
       "      <td>2</td>\n",
       "      <td>7</td>\n",
       "      <td>6</td>\n",
       "      <td>1</td>\n",
       "      <td>1</td>\n",
       "      <td>0</td>\n",
       "      <td>-0.63634</td>\n",
       "      <td>-1.223835</td>\n",
       "      <td>-0.960890</td>\n",
       "      <td>32.230137</td>\n",
       "      <td>-4.010892e+00</td>\n",
       "      <td>functional</td>\n",
       "    </tr>\n",
       "  </tbody>\n",
       "</table>"
      ],
      "text/plain": [
       "<IPython.core.display.HTML object>"
      ]
     },
     "metadata": {},
     "output_type": "display_data"
    }
   ],
   "source": [
    "df = df_proc_train.copy()\n",
    "dls = ft.TabularDataLoaders.from_df(df, procs=[ft.Categorify], cat_names=cat_cols, cont_names=cont_cols, y_names=\"status_group\", bs=256)\n",
    "dls.show_batch()"
   ]
  },
  {
   "cell_type": "code",
   "execution_count": 87,
   "metadata": {
    "cell_id": "00115-da6c12b8-c0ba-448a-81af-4d0bb6c6e326",
    "deepnote_app_coordinates": {
     "h": 5,
     "w": 24,
     "x": 0,
     "y": 0
    },
    "deepnote_cell_type": "code",
    "deepnote_to_be_reexecuted": false,
    "execution_millis": 114713,
    "execution_start": 1631625967777,
    "source_hash": "41732ca1",
    "tags": []
   },
   "outputs": [
    {
     "data": {
      "text/html": [
       "<table border=\"1\" class=\"dataframe\">\n",
       "  <thead>\n",
       "    <tr style=\"text-align: left;\">\n",
       "      <th>epoch</th>\n",
       "      <th>train_loss</th>\n",
       "      <th>valid_loss</th>\n",
       "      <th>accuracy</th>\n",
       "      <th>time</th>\n",
       "    </tr>\n",
       "  </thead>\n",
       "  <tbody>\n",
       "    <tr>\n",
       "      <td>0</td>\n",
       "      <td>0.841290</td>\n",
       "      <td>0.698503</td>\n",
       "      <td>0.743771</td>\n",
       "      <td>00:02</td>\n",
       "    </tr>\n",
       "    <tr>\n",
       "      <td>1</td>\n",
       "      <td>0.578835</td>\n",
       "      <td>0.569436</td>\n",
       "      <td>0.773232</td>\n",
       "      <td>00:02</td>\n",
       "    </tr>\n",
       "    <tr>\n",
       "      <td>2</td>\n",
       "      <td>0.511456</td>\n",
       "      <td>0.536939</td>\n",
       "      <td>0.782492</td>\n",
       "      <td>00:02</td>\n",
       "    </tr>\n",
       "    <tr>\n",
       "      <td>3</td>\n",
       "      <td>0.475538</td>\n",
       "      <td>0.538831</td>\n",
       "      <td>0.781650</td>\n",
       "      <td>00:02</td>\n",
       "    </tr>\n",
       "    <tr>\n",
       "      <td>4</td>\n",
       "      <td>0.451084</td>\n",
       "      <td>0.529622</td>\n",
       "      <td>0.789731</td>\n",
       "      <td>00:02</td>\n",
       "    </tr>\n",
       "    <tr>\n",
       "      <td>5</td>\n",
       "      <td>0.411974</td>\n",
       "      <td>0.541832</td>\n",
       "      <td>0.788468</td>\n",
       "      <td>00:02</td>\n",
       "    </tr>\n",
       "    <tr>\n",
       "      <td>6</td>\n",
       "      <td>0.388805</td>\n",
       "      <td>0.548611</td>\n",
       "      <td>0.793771</td>\n",
       "      <td>00:02</td>\n",
       "    </tr>\n",
       "    <tr>\n",
       "      <td>7</td>\n",
       "      <td>0.358302</td>\n",
       "      <td>0.557297</td>\n",
       "      <td>0.792593</td>\n",
       "      <td>00:02</td>\n",
       "    </tr>\n",
       "    <tr>\n",
       "      <td>8</td>\n",
       "      <td>0.333270</td>\n",
       "      <td>0.570106</td>\n",
       "      <td>0.792845</td>\n",
       "      <td>00:02</td>\n",
       "    </tr>\n",
       "    <tr>\n",
       "      <td>9</td>\n",
       "      <td>0.315758</td>\n",
       "      <td>0.571575</td>\n",
       "      <td>0.791162</td>\n",
       "      <td>00:02</td>\n",
       "    </tr>\n",
       "  </tbody>\n",
       "</table>"
      ],
      "text/plain": [
       "<IPython.core.display.HTML object>"
      ]
     },
     "metadata": {},
     "output_type": "display_data"
    }
   ],
   "source": [
    "learn = ft.tabular_learner(dls, metrics=ft.accuracy)\n",
    "learn.fit_one_cycle(10)"
   ]
  },
  {
   "cell_type": "markdown",
   "metadata": {
    "cell_id": "00116-2e67072b-a1ef-4aeb-a5f3-439270dee5cf",
    "deepnote_app_coordinates": {
     "h": 2,
     "w": 24,
     "x": 0,
     "y": 0
    },
    "deepnote_cell_type": "text-cell-p",
    "is_collapsed": false,
    "tags": []
   },
   "source": [
    "Rerun, but without splitting to a validation set. Train on the whole dataset."
   ]
  },
  {
   "cell_type": "code",
   "execution_count": 88,
   "metadata": {
    "cell_id": "00110-598db756-9a2a-4ad0-a8fd-3c12d0b73689",
    "deepnote_app_coordinates": {
     "h": 5,
     "w": 24,
     "x": 0,
     "y": 0
    },
    "deepnote_cell_type": "code",
    "deepnote_to_be_reexecuted": false,
    "execution_millis": 134175,
    "execution_start": 1631626082505,
    "source_hash": "f9570c16",
    "tags": []
   },
   "outputs": [
    {
     "data": {
      "text/html": [
       "<table border=\"1\" class=\"dataframe\">\n",
       "  <thead>\n",
       "    <tr style=\"text-align: left;\">\n",
       "      <th>epoch</th>\n",
       "      <th>train_loss</th>\n",
       "      <th>valid_loss</th>\n",
       "      <th>time</th>\n",
       "    </tr>\n",
       "  </thead>\n",
       "  <tbody>\n",
       "    <tr>\n",
       "      <td>0</td>\n",
       "      <td>0.771606</td>\n",
       "      <td>None</td>\n",
       "      <td>00:02</td>\n",
       "    </tr>\n",
       "    <tr>\n",
       "      <td>1</td>\n",
       "      <td>0.562533</td>\n",
       "      <td>None</td>\n",
       "      <td>00:02</td>\n",
       "    </tr>\n",
       "    <tr>\n",
       "      <td>2</td>\n",
       "      <td>0.507716</td>\n",
       "      <td>None</td>\n",
       "      <td>00:02</td>\n",
       "    </tr>\n",
       "    <tr>\n",
       "      <td>3</td>\n",
       "      <td>0.477016</td>\n",
       "      <td>None</td>\n",
       "      <td>00:02</td>\n",
       "    </tr>\n",
       "    <tr>\n",
       "      <td>4</td>\n",
       "      <td>0.449116</td>\n",
       "      <td>None</td>\n",
       "      <td>00:02</td>\n",
       "    </tr>\n",
       "    <tr>\n",
       "      <td>5</td>\n",
       "      <td>0.414267</td>\n",
       "      <td>None</td>\n",
       "      <td>00:02</td>\n",
       "    </tr>\n",
       "    <tr>\n",
       "      <td>6</td>\n",
       "      <td>0.389473</td>\n",
       "      <td>None</td>\n",
       "      <td>00:02</td>\n",
       "    </tr>\n",
       "    <tr>\n",
       "      <td>7</td>\n",
       "      <td>0.355275</td>\n",
       "      <td>None</td>\n",
       "      <td>00:02</td>\n",
       "    </tr>\n",
       "    <tr>\n",
       "      <td>8</td>\n",
       "      <td>0.332900</td>\n",
       "      <td>None</td>\n",
       "      <td>00:02</td>\n",
       "    </tr>\n",
       "    <tr>\n",
       "      <td>9</td>\n",
       "      <td>0.325692</td>\n",
       "      <td>None</td>\n",
       "      <td>00:02</td>\n",
       "    </tr>\n",
       "  </tbody>\n",
       "</table>"
      ],
      "text/plain": [
       "<IPython.core.display.HTML object>"
      ]
     },
     "metadata": {},
     "output_type": "display_data"
    },
    {
     "name": "stderr",
     "output_type": "stream",
     "text": [
      "/home/kdsuneraavinash/.virtualenvs/ml-project-pump-it-up/lib/python3.9/site-packages/fastprogress/fastprogress.py:74: UserWarning: Your generator is empty.\n",
      "  warn(\"Your generator is empty.\")\n"
     ]
    }
   ],
   "source": [
    "df = df_proc_train.copy()\n",
    "dls = ft.TabularDataLoaders.from_df(df, procs=[ft.Categorify], cat_names=cat_cols, cont_names=cont_cols, y_names=\"status_group\", bs=256, valid_idx=[])\n",
    "learn = ft.tabular_learner(dls)\n",
    "learn.fit_one_cycle(10)"
   ]
  },
  {
   "cell_type": "code",
   "execution_count": 89,
   "metadata": {
    "cell_id": "00111-0219c315-b2e8-4b7d-9fc7-dc75c0fe173c",
    "deepnote_app_coordinates": {
     "h": 5,
     "w": 24,
     "x": 0,
     "y": 0
    },
    "deepnote_cell_type": "code",
    "deepnote_to_be_reexecuted": false,
    "execution_millis": 112,
    "execution_start": 1631626216681,
    "source_hash": "e3793f06",
    "tags": []
   },
   "outputs": [],
   "source": [
    "test_df = df_proc_test.copy()\n",
    "dl = learn.dls.test_dl(test_df[cat_cols + cont_cols])"
   ]
  },
  {
   "cell_type": "code",
   "execution_count": 90,
   "metadata": {
    "cell_id": "00112-1868cfda-6462-45ba-818d-eb5c025602a0",
    "deepnote_app_coordinates": {
     "h": 5,
     "w": 24,
     "x": 0,
     "y": 0
    },
    "deepnote_cell_type": "code",
    "deepnote_to_be_reexecuted": false,
    "execution_millis": 786,
    "execution_start": 1631626216793,
    "source_hash": "107cdfb4",
    "tags": []
   },
   "outputs": [
    {
     "data": {
      "text/html": [],
      "text/plain": [
       "<IPython.core.display.HTML object>"
      ]
     },
     "metadata": {},
     "output_type": "display_data"
    }
   ],
   "source": [
    "preds, _ = learn.get_preds(dl=dl)"
   ]
  },
  {
   "cell_type": "code",
   "execution_count": 91,
   "metadata": {
    "cell_id": "00112-2e2585f5-d041-40a4-8bcd-e4e3a610ba51",
    "deepnote_app_coordinates": {
     "h": 5,
     "w": 24,
     "x": 0,
     "y": 0
    },
    "deepnote_cell_type": "code",
    "deepnote_to_be_reexecuted": false,
    "execution_millis": 136,
    "execution_start": 1631626217579,
    "source_hash": "263014a3",
    "tags": []
   },
   "outputs": [
    {
     "data": {
      "text/html": [
       "<div>\n",
       "<style scoped>\n",
       "    .dataframe tbody tr th:only-of-type {\n",
       "        vertical-align: middle;\n",
       "    }\n",
       "\n",
       "    .dataframe tbody tr th {\n",
       "        vertical-align: top;\n",
       "    }\n",
       "\n",
       "    .dataframe thead th {\n",
       "        text-align: right;\n",
       "    }\n",
       "</style>\n",
       "<table border=\"1\" class=\"dataframe\">\n",
       "  <thead>\n",
       "    <tr style=\"text-align: right;\">\n",
       "      <th></th>\n",
       "      <th>id</th>\n",
       "      <th>status_group</th>\n",
       "    </tr>\n",
       "  </thead>\n",
       "  <tbody>\n",
       "    <tr>\n",
       "      <th>0</th>\n",
       "      <td>50785</td>\n",
       "      <td>non functional</td>\n",
       "    </tr>\n",
       "    <tr>\n",
       "      <th>1</th>\n",
       "      <td>51630</td>\n",
       "      <td>functional</td>\n",
       "    </tr>\n",
       "    <tr>\n",
       "      <th>2</th>\n",
       "      <td>17168</td>\n",
       "      <td>functional</td>\n",
       "    </tr>\n",
       "    <tr>\n",
       "      <th>3</th>\n",
       "      <td>45559</td>\n",
       "      <td>non functional</td>\n",
       "    </tr>\n",
       "    <tr>\n",
       "      <th>4</th>\n",
       "      <td>49871</td>\n",
       "      <td>functional</td>\n",
       "    </tr>\n",
       "  </tbody>\n",
       "</table>\n",
       "</div>"
      ],
      "text/plain": [
       "      id    status_group\n",
       "0  50785  non functional\n",
       "1  51630      functional\n",
       "2  17168      functional\n",
       "3  45559  non functional\n",
       "4  49871      functional"
      ]
     },
     "execution_count": 91,
     "metadata": {},
     "output_type": "execute_result"
    }
   ],
   "source": [
    "label_preds = []\n",
    "for idx, i in zip(test_X.id, preds.argmax(axis=1)):\n",
    "    label = cats['status_group'][i]\n",
    "    label_preds.append([idx, label])\n",
    "solution_df = pd.DataFrame(label_preds, columns=['id', 'status_group'])\n",
    "solution_df.head()"
   ]
  },
  {
   "cell_type": "markdown",
   "metadata": {
    "cell_id": "00114-ffca560b-812a-49e8-9a89-641389eb1454",
    "deepnote_app_coordinates": {
     "h": 2,
     "w": 24,
     "x": 0,
     "y": 0
    },
    "deepnote_cell_type": "text-cell-p",
    "is_collapsed": false,
    "tags": []
   },
   "source": [
    "Score: 80.13%"
   ]
  },
  {
   "cell_type": "code",
   "execution_count": 92,
   "metadata": {},
   "outputs": [],
   "source": [
    "solution_df.to_csv(\"fastai-nn.csv\", index=False)"
   ]
  },
  {
   "cell_type": "markdown",
   "metadata": {
    "cell_id": "00117-4194ee79-36d8-46c3-813e-6d6714696741",
    "deepnote_app_coordinates": {
     "h": 2,
     "w": 24,
     "x": 0,
     "y": 0
    },
    "deepnote_cell_type": "text-cell-h3",
    "is_collapsed": false,
    "tags": []
   },
   "source": [
    "### Custom NN Training"
   ]
  },
  {
   "cell_type": "code",
   "execution_count": 93,
   "metadata": {
    "cell_id": "00118-97d56cf3-4991-4180-8b04-d4f0284e1682",
    "deepnote_app_coordinates": {
     "h": 5,
     "w": 24,
     "x": 0,
     "y": 0
    },
    "deepnote_cell_type": "code",
    "deepnote_to_be_reexecuted": false,
    "execution_millis": 0,
    "execution_start": 1631626217701,
    "source_hash": "cf445ff5",
    "tags": []
   },
   "outputs": [],
   "source": [
    "# TODO"
   ]
  },
  {
   "cell_type": "markdown",
   "metadata": {
    "cell_id": "00117-bd4416e8-a02b-4530-82ae-9b154610aad6",
    "deepnote_app_coordinates": {
     "h": 2,
     "w": 24,
     "x": 0,
     "y": 0
    },
    "deepnote_cell_type": "text-cell-h3",
    "is_collapsed": false,
    "tags": []
   },
   "source": [
    "### XGBoost Model Training"
   ]
  },
  {
   "cell_type": "code",
   "execution_count": 94,
   "metadata": {
    "cell_id": "00118-38076938-baa9-4710-b479-432046682a56",
    "deepnote_app_coordinates": {
     "h": 5,
     "w": 24,
     "x": 0,
     "y": 0
    },
    "deepnote_cell_type": "code",
    "deepnote_to_be_reexecuted": false,
    "execution_millis": 1,
    "execution_start": 1631626217701,
    "source_hash": "cf445ff5",
    "tags": []
   },
   "outputs": [],
   "source": [
    "# TODO"
   ]
  },
  {
   "cell_type": "markdown",
   "metadata": {
    "cell_id": "00137-f4c78e0b-4015-4445-a478-c66181cd80c1",
    "deepnote_app_coordinates": {
     "h": 2,
     "w": 24,
     "x": 0,
     "y": 0
    },
    "deepnote_cell_type": "text-cell-h2",
    "is_collapsed": false,
    "tags": []
   },
   "source": [
    "## Postprocessing"
   ]
  },
  {
   "cell_type": "code",
   "execution_count": 95,
   "metadata": {
    "cell_id": "00138-52f1afa5-4b60-43a8-b243-707d2922cd42",
    "deepnote_app_coordinates": {
     "h": 2,
     "w": 24,
     "x": 0,
     "y": 0
    },
    "deepnote_cell_type": "text-cell-h3",
    "is_collapsed": false,
    "tags": []
   },
   "outputs": [],
   "source": [
    "# TODO"
   ]
  }
 ],
 "metadata": {
  "deepnote": {
   "is_reactive": false
  },
  "deepnote_app_layout": "article",
  "deepnote_execution_queue": [],
  "deepnote_notebook_id": "ced57110-287d-42bb-8b61-ff52c371163c",
  "kernelspec": {
   "display_name": "Python 3 (ipykernel)",
   "language": "python",
   "name": "python3"
  },
  "language_info": {
   "codemirror_mode": {
    "name": "ipython",
    "version": 3
   },
   "file_extension": ".py",
   "mimetype": "text/x-python",
   "name": "python",
   "nbconvert_exporter": "python",
   "pygments_lexer": "ipython3",
   "version": "3.9.7"
  }
 },
 "nbformat": 4,
 "nbformat_minor": 4
}
